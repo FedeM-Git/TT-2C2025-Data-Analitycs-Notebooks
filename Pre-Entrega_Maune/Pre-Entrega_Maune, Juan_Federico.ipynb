{
  "nbformat": 4,
  "nbformat_minor": 0,
  "metadata": {
    "colab": {
      "provenance": [],
      "authorship_tag": "ABX9TyMzd8ySCYBdl181Wc2/C8gZ",
      "include_colab_link": true
    },
    "kernelspec": {
      "name": "python3",
      "display_name": "Python 3"
    },
    "language_info": {
      "name": "python"
    }
  },
  "cells": [
    {
      "cell_type": "markdown",
      "metadata": {
        "id": "view-in-github",
        "colab_type": "text"
      },
      "source": [
        "<a href=\"https://colab.research.google.com/github/FedeM-Git/TT-2C2025-Data-Analitycs-Notebooks/blob/main/Pre-Entrega_Maune/Pre-Entrega_Maune%2C%20Juan_Federico.ipynb\" target=\"_parent\"><img src=\"https://colab.research.google.com/assets/colab-badge.svg\" alt=\"Open In Colab\"/></a>"
      ]
    },
    {
      "cell_type": "markdown",
      "source": [
        "\n",
        "<img  src=\"https://raw.githubusercontent.com/FedeM-Git/TT-2C2025-Data-Analitycs-Notebooks/refs/heads/main/Pre-Entrega_Maune/Pre-Entrega%20IMG.PNG\" width=100%>\n",
        "\n",
        "#**MAUNE, Juan Federico**\n",
        "#**Pre-Entrega de Proyecto**\n",
        "\n",
        "**Bases de datos a utilizar:**\n",
        "- [clientes.csv](https://github.com/FedeM-Git/TT-2C2025-Data-Analitycs-Notebooks/blob/main/Pre-Entrega_Maune/datasets/clientes.csv)\n",
        "- [marketing.csv](https://github.com/FedeM-Git/TT-2C2025-Data-Analitycs-Notebooks/blob/main/Pre-Entrega_Maune/datasets/marketing.csv)\n",
        "- [ventas.csv](https://github.com/FedeM-Git/TT-2C2025-Data-Analitycs-Notebooks/blob/main/Pre-Entrega_Maune/datasets/ventas.csv)\n"
      ],
      "metadata": {
        "id": "lRt1pSMR31v2"
      }
    },
    {
      "cell_type": "code",
      "source": [
        "# se importa pandas\n",
        "import pandas as pd"
      ],
      "metadata": {
        "id": "1LPD1HIXNwHD"
      },
      "execution_count": 1,
      "outputs": []
    },
    {
      "cell_type": "code",
      "source": [
        "# se importa data set clientes\n",
        "df_clientes = pd.read_csv(\"https://raw.githubusercontent.com/FedeM-Git/TT-2C2025-Data-Analitycs-Notebooks/refs/heads/main/Pre-Entrega_Maune/datasets/clientes.csv\")"
      ],
      "metadata": {
        "id": "ONxbuMmdN1td"
      },
      "execution_count": 3,
      "outputs": []
    },
    {
      "cell_type": "code",
      "source": [
        "# se importa data set marketing\n",
        "df_clientes = pd.read_csv(\"https://raw.githubusercontent.com/FedeM-Git/TT-2C2025-Data-Analitycs-Notebooks/refs/heads/main/Pre-Entrega_Maune/datasets/marketing.csv\")"
      ],
      "metadata": {
        "id": "yXUrjbKaOJHv"
      },
      "execution_count": 4,
      "outputs": []
    },
    {
      "cell_type": "code",
      "source": [
        "# se importa data set ventas\n",
        "df_clientes = pd.read_csv(\"https://raw.githubusercontent.com/FedeM-Git/TT-2C2025-Data-Analitycs-Notebooks/refs/heads/main/Pre-Entrega_Maune/datasets/ventas.csv\")"
      ],
      "metadata": {
        "id": "GJnfzkD8OQQV"
      },
      "execution_count": 5,
      "outputs": []
    }
  ]
}