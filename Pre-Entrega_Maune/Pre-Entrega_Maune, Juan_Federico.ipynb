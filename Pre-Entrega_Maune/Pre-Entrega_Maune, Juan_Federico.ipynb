{
  "nbformat": 4,
  "nbformat_minor": 0,
  "metadata": {
    "colab": {
      "provenance": [],
      "authorship_tag": "ABX9TyN9NOS/nkmozvAS4SDmhzOx",
      "include_colab_link": true
    },
    "kernelspec": {
      "name": "python3",
      "display_name": "Python 3"
    },
    "language_info": {
      "name": "python"
    }
  },
  "cells": [
    {
      "cell_type": "markdown",
      "metadata": {
        "id": "view-in-github",
        "colab_type": "text"
      },
      "source": [
        "<a href=\"https://colab.research.google.com/github/FedeM-Git/TT-2C2025-Data-Analitycs-Notebooks/blob/main/Pre-Entrega_Maune/Pre-Entrega_Maune%2C%20Juan_Federico.ipynb\" target=\"_parent\"><img src=\"https://colab.research.google.com/assets/colab-badge.svg\" alt=\"Open In Colab\"/></a>"
      ]
    },
    {
      "cell_type": "markdown",
      "source": [
        "\n",
        "<img  src=\"https://raw.githubusercontent.com/FedeM-Git/TT-2C2025-Data-Analitycs-Notebooks/refs/heads/main/Pre-Entrega_Maune/Pre-Entrega%20IMG.PNG\" width=100%>\n",
        "\n",
        "#**MAUNE, Juan Federico**\n",
        "#**Pre-Entrega de Proyecto**\n",
        "\n",
        "**Bases de datos a utilizar:**\n",
        "- [clientes.csv](https://github.com/FedeM-Git/TT-2C2025-Data-Analitycs-Notebooks/blob/main/Pre-Entrega_Maune/datasets/clientes.csv)\n",
        "- [marketing.csv](https://github.com/FedeM-Git/TT-2C2025-Data-Analitycs-Notebooks/blob/main/Pre-Entrega_Maune/datasets/marketing.csv)\n",
        "- [ventas.csv](https://github.com/FedeM-Git/TT-2C2025-Data-Analitycs-Notebooks/blob/main/Pre-Entrega_Maune/datasets/ventas.csv)\n"
      ],
      "metadata": {
        "id": "lRt1pSMR31v2"
      }
    },
    {
      "cell_type": "code",
      "source": [
        "lista_ventas = [\n",
        "{'id_venta': 2824, 'producto': 'Tablet', 'precio': 74.09, 'cantidad': 5, 'fecha_venta': '45294', 'categoria': 'Electrónica'},\n",
        "{'id_venta': 446, 'producto': 'Cortinas', 'precio': 62.10, 'cantidad': 4, 'fecha_venta': '45295', 'categoria': 'Decoración'},\n",
        "{'id_venta': 630, 'producto': 'Adorno de pared', 'precio': 71.99, 'cantidad': 9, 'fecha_venta': '45295', 'categoria': 'Decoración'},\n",
        "{'id_venta': 794, 'producto': 'Jarrón decorativo', 'precio': 96.97, 'cantidad': 7, 'fecha_venta': '45295', 'categoria': 'Decoración'},\n",
        "{'id_venta': 882, 'producto': 'Cuadro decorativo', 'precio': 101.92, 'cantidad': 9, 'fecha_venta': '45295', 'categoria': 'Decoración'},\n",
        "{'id_venta': 969, 'producto': 'Candelabro', 'precio': 90.70, 'cantidad': 12, 'fecha_venta': '45295', 'categoria': 'Decoración'},\n",
        "{'id_venta': 1445, 'producto': 'Lavadora', 'precio': 28.41, 'cantidad': 10, 'fecha_venta': '45295', 'categoria': 'Electrodomésticos'},\n",
        "{'id_venta': 1971, 'producto': 'Freidora eléctrica', 'precio': 122.25, 'cantidad': 11, 'fecha_venta': '45295', 'categoria': 'Electrodomésticos'},\n",
        "{'id_venta': 2209, 'producto': 'Proyector', 'precio': 32.15, 'cantidad': 1, 'fecha_venta': '45295', 'categoria': 'Electrónica'},\n",
        "{'id_venta': 256, 'producto': 'Cortinas', 'precio': 86.82, 'cantidad': 8, 'fecha_venta': '45296', 'categoria': 'Decoración'},\n",
        "{'id_venta': 606, 'producto': 'Cortinas', 'precio': 106.66, 'cantidad': 11, 'fecha_venta': '45296', 'categoria': 'Decoración'},\n",
        "{'id_venta': 704, 'producto': 'Jarrón decorativo', 'precio': 57.22, 'cantidad': 9, 'fecha_venta': '45296', 'categoria': 'Decoración'},\n",
        "{'id_venta': 1362, 'producto': 'Heladera', 'precio': 109.49, 'cantidad': 11, 'fecha_venta': '45296', 'categoria': 'Electrodomésticos'},\n",
        "{'id_venta': 2155, 'producto': 'Auriculares', 'precio': 84.80, 'cantidad': 10, 'fecha_venta': '45296', 'categoria': 'Electrónica'},\n",
        "{'id_venta': 2947, 'producto': 'Cámara digital', 'precio': 107.78, 'cantidad': 3, 'fecha_venta': '45296', 'categoria': 'Electrónica'},\n",
        "{'id_venta': 1495, 'producto': 'Lavadora', 'precio': 38.99, 'cantidad': 6, 'fecha_venta': '45297', 'categoria': 'Electrodomésticos'},\n",
        "{'id_venta': 1572, 'producto': 'Cafetera', 'precio': 61.40, 'cantidad': 9, 'fecha_venta': '45297', 'categoria': 'Electrodomésticos'},\n",
        "{'id_venta': 2180, 'producto': 'Consola de videojuegos', 'precio': 102.57, 'cantidad': 9, 'fecha_venta': '45297', 'categoria': 'Electrónica'},\n",
        "{'id_venta': 2487, 'producto': 'Cámara digital', 'precio': 50.76, 'cantidad': 3, 'fecha_venta': '45297', 'categoria': 'Electrónica'},\n",
        "{'id_venta': 2603, 'producto': 'Smartphone', 'precio': 87.05, 'cantidad': 5, 'fecha_venta': '45297', 'categoria': 'Electrónica'},\n",
        "{'id_venta': 2885, 'producto': 'Auriculares', 'precio': 100.40, 'cantidad': 6, 'fecha_venta': '45297', 'categoria': 'Electrónica'},\n",
        "{'id_venta': 17, 'producto': 'Elementos de cerámica', 'precio': 108.48, 'cantidad': 11, 'fecha_venta': '45298', 'categoria': 'Decoración'},\n",
        "{'id_venta': 183, 'producto': 'Espejo decorativo', 'precio': 82.76, 'cantidad': 8, 'fecha_venta': '45298', 'categoria': 'Decoración'},\n",
        "{'id_venta': 560, 'producto': 'Adorno de pared', 'precio': 57.62, 'cantidad': 6, 'fecha_venta': '45298', 'categoria': 'Decoración'},\n",
        "{'id_venta': 632, 'producto': 'Cuadro decorativo', 'precio': 30.49, 'cantidad': 12, 'fecha_venta': '45298', 'categoria': 'Decoración'}\n",
        "]"
      ],
      "metadata": {
        "id": "rMtmywcgSqs7"
      },
      "execution_count": 7,
      "outputs": []
    },
    {
      "cell_type": "code",
      "source": [
        "# se importa pandas\n",
        "import pandas as pd"
      ],
      "metadata": {
        "id": "1LPD1HIXNwHD"
      },
      "execution_count": 1,
      "outputs": []
    },
    {
      "cell_type": "code",
      "source": [
        "# se importa data set clientes\n",
        "df_clientes = pd.read_csv(\"https://raw.githubusercontent.com/FedeM-Git/TT-2C2025-Data-Analitycs-Notebooks/refs/heads/main/Pre-Entrega_Maune/datasets/clientes.csv\")"
      ],
      "metadata": {
        "id": "ONxbuMmdN1td"
      },
      "execution_count": 3,
      "outputs": []
    },
    {
      "cell_type": "code",
      "source": [
        "# se importa data set marketing\n",
        "df_clientes = pd.read_csv(\"https://raw.githubusercontent.com/FedeM-Git/TT-2C2025-Data-Analitycs-Notebooks/refs/heads/main/Pre-Entrega_Maune/datasets/marketing.csv\")"
      ],
      "metadata": {
        "id": "yXUrjbKaOJHv"
      },
      "execution_count": 4,
      "outputs": []
    },
    {
      "cell_type": "code",
      "source": [
        "# se importa data set ventas\n",
        "df_clientes = pd.read_csv(\"https://raw.githubusercontent.com/FedeM-Git/TT-2C2025-Data-Analitycs-Notebooks/refs/heads/main/Pre-Entrega_Maune/datasets/ventas.csv\")"
      ],
      "metadata": {
        "id": "GJnfzkD8OQQV"
      },
      "execution_count": 5,
      "outputs": []
    }
  ]
}