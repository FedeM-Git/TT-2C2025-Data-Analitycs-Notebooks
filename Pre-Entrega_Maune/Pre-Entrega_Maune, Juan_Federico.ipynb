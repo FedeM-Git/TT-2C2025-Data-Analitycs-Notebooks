{
  "nbformat": 4,
  "nbformat_minor": 0,
  "metadata": {
    "colab": {
      "provenance": [],
      "toc_visible": true,
      "authorship_tag": "ABX9TyP2cKCgKh79Cy5HxGmex+W4",
      "include_colab_link": true
    },
    "kernelspec": {
      "name": "python3",
      "display_name": "Python 3"
    },
    "language_info": {
      "name": "python"
    }
  },
  "cells": [
    {
      "cell_type": "markdown",
      "metadata": {
        "id": "view-in-github",
        "colab_type": "text"
      },
      "source": [
        "<a href=\"https://colab.research.google.com/github/FedeM-Git/TT-2C2025-Data-Analitycs-Notebooks/blob/main/Pre-Entrega_Maune/Pre-Entrega_Maune%2C%20Juan_Federico.ipynb\" target=\"_parent\"><img src=\"https://colab.research.google.com/assets/colab-badge.svg\" alt=\"Open In Colab\"/></a>"
      ]
    },
    {
      "cell_type": "markdown",
      "source": [
        "\n",
        "<img  src=\"https://raw.githubusercontent.com/FedeM-Git/TT-2C2025-Data-Analitycs-Notebooks/refs/heads/main/Pre-Entrega_Maune/Pre-Entrega%20IMG.PNG\" width=100%>\n",
        "\n",
        "#**MAUNE, Juan Federico**\n",
        "#**Pre-Entrega de Proyecto**\n",
        "\n",
        "**Bases de datos a utilizar:**\n",
        "- [clientes.csv](https://github.com/FedeM-Git/TT-2C2025-Data-Analitycs-Notebooks/blob/main/Pre-Entrega_Maune/datasets/clientes.csv)\n",
        "- [marketing.csv](https://github.com/FedeM-Git/TT-2C2025-Data-Analitycs-Notebooks/blob/main/Pre-Entrega_Maune/datasets/marketing.csv)\n",
        "- [ventas.csv](https://github.com/FedeM-Git/TT-2C2025-Data-Analitycs-Notebooks/blob/main/Pre-Entrega_Maune/datasets/ventas.csv)\n"
      ],
      "metadata": {
        "id": "lRt1pSMR31v2"
      }
    },
    {
      "cell_type": "markdown",
      "source": [
        "#**Etapa 1: Recopilación y preparación de Datos**"
      ],
      "metadata": {
        "id": "28wbN7nHomwf"
      }
    },
    {
      "cell_type": "markdown",
      "source": [
        "##***Actividad 1: Carga de los sets de datos***"
      ],
      "metadata": {
        "id": "kdTeEqSkpVos"
      }
    },
    {
      "cell_type": "code",
      "source": [
        "# se importa pandas\n",
        "import pandas as pd"
      ],
      "metadata": {
        "id": "1LPD1HIXNwHD"
      },
      "execution_count": 18,
      "outputs": []
    },
    {
      "cell_type": "code",
      "source": [
        "# se importa data set clientes\n",
        "df_clientes = pd.read_csv(\"https://raw.githubusercontent.com/FedeM-Git/TT-2C2025-Data-Analitycs-Notebooks/refs/heads/main/Pre-Entrega_Maune/datasets/clientes.csv\")"
      ],
      "metadata": {
        "id": "ONxbuMmdN1td"
      },
      "execution_count": 19,
      "outputs": []
    },
    {
      "cell_type": "code",
      "source": [
        "# se importa data set marketing\n",
        "df_clientes = pd.read_csv(\"https://raw.githubusercontent.com/FedeM-Git/TT-2C2025-Data-Analitycs-Notebooks/refs/heads/main/Pre-Entrega_Maune/datasets/marketing.csv\")"
      ],
      "metadata": {
        "id": "yXUrjbKaOJHv"
      },
      "execution_count": 20,
      "outputs": []
    },
    {
      "cell_type": "code",
      "source": [
        "# se importa data set ventas\n",
        "df_clientes = pd.read_csv(\"https://raw.githubusercontent.com/FedeM-Git/TT-2C2025-Data-Analitycs-Notebooks/refs/heads/main/Pre-Entrega_Maune/datasets/ventas.csv\")"
      ],
      "metadata": {
        "id": "GJnfzkD8OQQV"
      },
      "execution_count": 21,
      "outputs": []
    },
    {
      "cell_type": "markdown",
      "source": [
        "##***Actividad 2 y 3: Script Básico***"
      ],
      "metadata": {
        "id": "d9lU1PWBqT26"
      }
    },
    {
      "cell_type": "code",
      "source": [
        "# se paso parte de los registros del set de datos de \"Ventas\" a una lista de diccionarios\n",
        "lista_ventas = [\n",
        "{'id_venta': 2824, 'producto': 'Tablet', 'precio': 74.09, 'cantidad': 5, 'fecha_venta': '45294', 'categoria': 'Electrónica'},\n",
        "{'id_venta': 446, 'producto': 'Cortinas', 'precio': 62.10, 'cantidad': 4, 'fecha_venta': '45295', 'categoria': 'Decoración'},\n",
        "{'id_venta': 630, 'producto': 'Adorno de pared', 'precio': 71.99, 'cantidad': 9, 'fecha_venta': '45295', 'categoria': 'Decoración'},\n",
        "{'id_venta': 794, 'producto': 'Jarrón decorativo', 'precio': 96.97, 'cantidad': 7, 'fecha_venta': '45295', 'categoria': 'Decoración'},\n",
        "{'id_venta': 882, 'producto': 'Cuadro decorativo', 'precio': 101.92, 'cantidad': 9, 'fecha_venta': '45295', 'categoria': 'Decoración'},\n",
        "{'id_venta': 969, 'producto': 'Candelabro', 'precio': 90.70, 'cantidad': 12, 'fecha_venta': '45295', 'categoria': 'Decoración'},\n",
        "{'id_venta': 1445, 'producto': 'Lavadora', 'precio': 28.41, 'cantidad': 10, 'fecha_venta': '45295', 'categoria': 'Electrodomésticos'},\n",
        "{'id_venta': 1971, 'producto': 'Freidora eléctrica', 'precio': 122.25, 'cantidad': 11, 'fecha_venta': '45295', 'categoria': 'Electrodomésticos'},\n",
        "{'id_venta': 2209, 'producto': 'Proyector', 'precio': 32.15, 'cantidad': 1, 'fecha_venta': '45295', 'categoria': 'Electrónica'},\n",
        "{'id_venta': 256, 'producto': 'Cortinas', 'precio': 86.82, 'cantidad': 8, 'fecha_venta': '45296', 'categoria': 'Decoración'},\n",
        "{'id_venta': 606, 'producto': 'Cortinas', 'precio': 106.66, 'cantidad': 11, 'fecha_venta': '45296', 'categoria': 'Decoración'},\n",
        "{'id_venta': 704, 'producto': 'Jarrón decorativo', 'precio': 57.22, 'cantidad': 9, 'fecha_venta': '45296', 'categoria': 'Decoración'},\n",
        "{'id_venta': 1362, 'producto': 'Heladera', 'precio': 109.49, 'cantidad': 11, 'fecha_venta': '45296', 'categoria': 'Electrodomésticos'},\n",
        "{'id_venta': 2155, 'producto': 'Auriculares', 'precio': 84.80, 'cantidad': 10, 'fecha_venta': '45296', 'categoria': 'Electrónica'},\n",
        "{'id_venta': 2947, 'producto': 'Cámara digital', 'precio': 107.78, 'cantidad': 3, 'fecha_venta': '45296', 'categoria': 'Electrónica'},\n",
        "{'id_venta': 1495, 'producto': 'Lavadora', 'precio': 38.99, 'cantidad': 6, 'fecha_venta': '45297', 'categoria': 'Electrodomésticos'},\n",
        "{'id_venta': 1572, 'producto': 'Cafetera', 'precio': 61.40, 'cantidad': 9, 'fecha_venta': '45297', 'categoria': 'Electrodomésticos'},\n",
        "{'id_venta': 2180, 'producto': 'Consola de videojuegos', 'precio': 102.57, 'cantidad': 9, 'fecha_venta': '45297', 'categoria': 'Electrónica'},\n",
        "{'id_venta': 2487, 'producto': 'Cámara digital', 'precio': 50.76, 'cantidad': 3, 'fecha_venta': '45297', 'categoria': 'Electrónica'},\n",
        "{'id_venta': 2603, 'producto': 'Smartphone', 'precio': 87.05, 'cantidad': 5, 'fecha_venta': '45297', 'categoria': 'Electrónica'},\n",
        "{'id_venta': 2885, 'producto': 'Auriculares', 'precio': 100.40, 'cantidad': 6, 'fecha_venta': '45297', 'categoria': 'Electrónica'},\n",
        "{'id_venta': 17, 'producto': 'Elementos de cerámica', 'precio': 108.48, 'cantidad': 11, 'fecha_venta': '45298', 'categoria': 'Decoración'},\n",
        "{'id_venta': 183, 'producto': 'Espejo decorativo', 'precio': 82.76, 'cantidad': 8, 'fecha_venta': '45298', 'categoria': 'Decoración'},\n",
        "{'id_venta': 560, 'producto': 'Adorno de pared', 'precio': 57.62, 'cantidad': 6, 'fecha_venta': '45298', 'categoria': 'Decoración'},\n",
        "{'id_venta': 632, 'producto': 'Cuadro decorativo', 'precio': 30.49, 'cantidad': 12, 'fecha_venta': '45298', 'categoria': 'Decoración'}\n",
        "]"
      ],
      "metadata": {
        "id": "rMtmywcgSqs7"
      },
      "execution_count": 22,
      "outputs": []
    },
    {
      "cell_type": "code",
      "source": [
        "# ventas acumuladas de la categoría \"Decoración\"\n",
        "ventas_decoracion = sum( [venta ['precio']* venta['cantidad']\n",
        "                          for venta in lista_ventas\n",
        "                          if venta['categoria']=='Decoración'])\n",
        "print(f'El monto obtenido por las ventas en la categoría Decoración es de $ {ventas_decoracion}')"
      ],
      "metadata": {
        "id": "GRNvyzh4hZGB",
        "outputId": "aae35ef4-75c6-4d6f-c137-b10a587a8284",
        "colab": {
          "base_uri": "https://localhost:8080/"
        }
      },
      "execution_count": 23,
      "outputs": [
        {
          "output_type": "stream",
          "name": "stdout",
          "text": [
            "El monto obtenido por las ventas en la categoría Decoración es de $ 8530.539999999999\n"
          ]
        }
      ]
    },
    {
      "cell_type": "code",
      "source": [
        "# ventas acumuladas de la categoría \"Electrodométicos\"\n",
        "ventas_electrodomesticos = sum( [venta ['precio']* venta['cantidad']\n",
        "                                 for venta in lista_ventas\n",
        "                                 if venta['categoria']=='Electrodomésticos'])\n",
        "print(f'El monto obtenido por las ventas en la categoría Electrodomésticos es de $ {ventas_electrodomesticos}')"
      ],
      "metadata": {
        "id": "BadYI33okJ9_",
        "outputId": "09dc50cd-f029-406a-d10b-cbb4c1212b6c",
        "colab": {
          "base_uri": "https://localhost:8080/"
        }
      },
      "execution_count": 24,
      "outputs": [
        {
          "output_type": "stream",
          "name": "stdout",
          "text": [
            "El monto obtenido por las ventas en la categoría Electrodomésticos es de $ 3619.7799999999997\n"
          ]
        }
      ]
    },
    {
      "cell_type": "code",
      "source": [
        "# ventas acumuladas de la categoría \"Electrónica\"\n",
        "ventas_electronica = sum( [venta ['precio']* venta['cantidad']\n",
        "                           for venta in lista_ventas\n",
        "                           if venta['categoria']=='Electrónica'])\n",
        "print(f'El monto obtenido por las ventas en la categoría Electrónica es de $ {ventas_electronica}')"
      ],
      "metadata": {
        "id": "dVlvQ02jkhmE",
        "outputId": "89ebafd1-7ddb-46b3-f0fb-eb658b3ac182",
        "colab": {
          "base_uri": "https://localhost:8080/"
        }
      },
      "execution_count": 25,
      "outputs": [
        {
          "output_type": "stream",
          "name": "stdout",
          "text": [
            "El monto obtenido por las ventas en la categoría Electrónica es de $ 3687.0\n"
          ]
        }
      ]
    },
    {
      "cell_type": "code",
      "source": [
        "# con ayuda de AI realicé los mismos clculos pero en una sola sentencia\n",
        "ventas_por_categoria = {\n",
        "    categoria: sum(venta['precio'] * venta['cantidad']\n",
        "                   for venta in lista_ventas if venta['categoria'] == categoria)\n",
        "    for categoria in {venta['categoria'] for venta in lista_ventas}\n",
        "}\n",
        "\n",
        "print(ventas_por_categoria)"
      ],
      "metadata": {
        "id": "ZqDYJ-ganC9O",
        "outputId": "f8a00d53-7590-4fd7-de66-b431780a4b1c",
        "colab": {
          "base_uri": "https://localhost:8080/"
        }
      },
      "execution_count": 26,
      "outputs": [
        {
          "output_type": "stream",
          "name": "stdout",
          "text": [
            "{'Electrónica': 3687.0, 'Decoración': 8530.539999999999, 'Electrodomésticos': 3619.7799999999997}\n"
          ]
        }
      ]
    },
    {
      "cell_type": "markdown",
      "source": [
        "## ***Actividad 4: Análisis exploratorio con Pandas***"
      ],
      "metadata": {
        "id": "cUfDS7RTp5qW"
      }
    },
    {
      "cell_type": "markdown",
      "source": [
        "# ejercicios\n",
        "\n",
        "- Etapa 1\n",
        "    4. Introducción a Pandas: realizar un análisis exploratorio inicial de los DataFrames.\n",
        "\n",
        "    5. Calidad de Datos: Identificar valores nulos y duplicados en los conjuntos de datos. Documentar el estado inicial de los datos.\n",
        "\n",
        "- Etapa 2\n",
        "    1. Limpieza de Datos: Limpiar el conjunto de datos eliminando duplicados y caracteres no deseados. Documentar el proceso y los resultados.\n",
        "\n",
        "    2. Transformación de Datos: Aplicar filtros y transformaciones para crear una tabla de ventas que muestre solo los productos con alto rendimiento.\n",
        "\n",
        "    3. Agregación: Resumir las ventas por categoría de producto y analizar los ingresos generados.\n",
        "\n",
        "    4. Integración de Datos: Combinar los sets de datos de ventas y marketing para obtener una visión más amplia de las tendencias."
      ],
      "metadata": {
        "id": "JLuOSlYKtcRL"
      }
    },
    {
      "cell_type": "code",
      "source": [],
      "metadata": {
        "id": "VPHc7JVTtfnI"
      },
      "execution_count": null,
      "outputs": []
    }
  ]
}