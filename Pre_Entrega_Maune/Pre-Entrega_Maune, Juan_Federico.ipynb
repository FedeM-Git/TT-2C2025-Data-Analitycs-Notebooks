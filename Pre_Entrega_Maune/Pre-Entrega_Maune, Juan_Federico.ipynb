{
  "nbformat": 4,
  "nbformat_minor": 0,
  "metadata": {
    "colab": {
      "provenance": [],
      "authorship_tag": "ABX9TyOv5MrYHQD9f+JKiQR3EiIS",
      "include_colab_link": true
    },
    "kernelspec": {
      "name": "python3",
      "display_name": "Python 3"
    },
    "language_info": {
      "name": "python"
    }
  },
  "cells": [
    {
      "cell_type": "markdown",
      "metadata": {
        "id": "view-in-github",
        "colab_type": "text"
      },
      "source": [
        "<a href=\"https://colab.research.google.com/github/FedeM-Git/TT-2C2025-Data-Analitycs-Notebooks/blob/main/Pre_Entrega_Maune/Pre-Entrega_Maune%2C%20Juan_Federico.ipynb\" target=\"_parent\"><img src=\"https://colab.research.google.com/assets/colab-badge.svg\" alt=\"Open In Colab\"/></a>"
      ]
    },
    {
      "cell_type": "markdown",
      "source": [
        "\n",
        "<img  src=\"https://raw.githubusercontent.com/FedeM-Git/TT-2C2025-Data-Analitycs-Notebooks/refs/heads/main/Pre-Entrega_Maune/Pre-Entrega%20IMG.PNG\" width=100%>\n",
        "\n"
      ],
      "metadata": {
        "id": "lRt1pSMR31v2"
      }
    }
  ]
}