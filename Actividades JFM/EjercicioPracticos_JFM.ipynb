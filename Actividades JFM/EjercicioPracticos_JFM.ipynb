{
  "nbformat": 4,
  "nbformat_minor": 0,
  "metadata": {
    "colab": {
      "provenance": [],
      "include_colab_link": true
    },
    "kernelspec": {
      "name": "python3",
      "display_name": "Python 3"
    },
    "language_info": {
      "name": "python"
    }
  },
  "cells": [
    {
      "cell_type": "markdown",
      "metadata": {
        "id": "view-in-github",
        "colab_type": "text"
      },
      "source": [
        "<a href=\"https://colab.research.google.com/github/FedeM-Git/TT-2C2025-Data-Analitycs-Notebooks/blob/main/Actividades%20JFM/EjercicioPracticos_JFM.ipynb\" target=\"_parent\"><img src=\"https://colab.research.google.com/assets/colab-badge.svg\" alt=\"Open In Colab\"/></a>"
      ]
    },
    {
      "cell_type": "markdown",
      "source": [
        "# Actividades"
      ],
      "metadata": {
        "id": "gCJoH7KuEUga"
      }
    },
    {
      "cell_type": "markdown",
      "source": [
        "## Actividad 1"
      ],
      "metadata": {
        "id": "NHa-sP3zJ8Db"
      }
    },
    {
      "cell_type": "markdown",
      "source": [
        "  Creá tu propio bloque de texto. Utiliza:\n",
        "  - formatos de texto\n",
        "  - links\n",
        "  - al menos una imagen de tu carpeta Drive"
      ],
      "metadata": {
        "id": "ZlSXlWj4KAZZ"
      }
    },
    {
      "cell_type": "markdown",
      "source": [
        "## Actividad 2"
      ],
      "metadata": {
        "id": "LTFeKV5uKDPK"
      }
    },
    {
      "cell_type": "markdown",
      "source": [
        "Creá un bloque de código con un programa que pida un número por teclado, y responda si es par o impar. Ejecutalo."
      ],
      "metadata": {
        "id": "NfVvRVxMKUu8"
      }
    },
    {
      "cell_type": "markdown",
      "source": [
        "#**Iniciando Data Analytics with Python**\n",
        "\n",
        "\n",
        "\n"
      ],
      "metadata": {
        "id": "yS6iVVlDL3WO"
      }
    },
    {
      "cell_type": "markdown",
      "source": [
        "Como primer tarea se nos pidio armar un bloque con diferentes formatos de texto, links y una imagen. Para que me quede una muestra de cada uno, armé la siguiente lista:\n",
        "\n",
        "1. Esta lista de formatos:\n",
        "    - > Cita\n",
        "\n",
        "    - **negrita**\n",
        "\n",
        "    - ***negrita y cursiva***\n",
        "\n",
        "    - *cursiva*\n",
        "\n",
        "2. Estos Elementos:\n",
        "    - [Enlace a Imagen](https://drive.google.com/file/d/1BcoOSDWlLsbF-9obYlW_EgQ6v0FEVs5F/view?usp=drive_link)\n",
        "\n",
        "    - Esta Imagen:\n",
        "<img src=\"https://drive.google.com/uc?id=1BcoOSDWlLsbF-9obYlW_EgQ6v0FEVs5F\">\n",
        "\n",
        "    Esto es una Doble Tabulación\n",
        "    Sigue la doble Tabulacion\n",
        "No hay Tabulación\n",
        "\n",
        "  Tabulación Simple\n"
      ],
      "metadata": {
        "id": "PM3QE1SR0N9j"
      }
    },
    {
      "cell_type": "markdown",
      "source": [
        "Como Actividad 2 debemos elabror un bloque de código que nos pida un número e indique si es par o impar"
      ],
      "metadata": {
        "id": "_RoD5J5FqqwB"
      }
    },
    {
      "cell_type": "code",
      "source": [
        "print(\"¿Con quén estoy hablando?\")\n",
        "nombre=input()\n",
        "print(\"Hola \", nombre, \", por favor ingresá un número:\")\n",
        "numero=int(input())\n",
        "if numero%2==0:\n",
        "  print(numero, \" es un número PAR\")\n",
        "else:\n",
        "  print(nombre, \", \",numero, \"es un número IMPAR\")\n",
        "\n"
      ],
      "metadata": {
        "id": "3BCouk_k4MyV"
      },
      "execution_count": null,
      "outputs": []
    },
    {
      "cell_type": "markdown",
      "source": [
        "#**CLASE 2**"
      ],
      "metadata": {
        "id": "GgaAd1FEUx6v"
      }
    },
    {
      "cell_type": "markdown",
      "source": [
        "#Actividad: Manipulación de Estructuras de Datos en Python\n",
        "Contexto:\n",
        "\n",
        "¡Bienvenido a esta emocionante actividad en tu proceso de selección en SynthData! Esta vez, trabajarás en la manipulación de diferentes estructuras de datos en Python, contando con la guía de Sabrina, nuestra Data Engineer. Este ejercicio es ideal para fortalecer tus habilidades en el manejo y transformación de datos con Python, lo cual es esencial para tus futuras tareas en el análisis de datos.\n",
        "\n",
        "En esta actividad, te centrarás en crear y manipular diferentes estructuras de datos en Python. Desde listas y diccionarios, hasta el uso de funciones y comprehensions, tendrás la oportunidad de experimentar de manera práctica con estas herramientas. Al finalizar, estarás más preparado para aplicar estas técnicas en proyectos del mundo real.\n",
        "\n",
        "Objetivos:\n",
        "  * Crear y manipular diversas estructuras de datos, aplicando tanto funciones normales como funciones lambda.\n",
        "  * Utilizar comprehensions para crear listas\n",
        "\n"
      ],
      "metadata": {
        "id": "lzmAC5ibU56O"
      }
    },
    {
      "cell_type": "markdown",
      "source": [
        "#Ejercicio Práctico\n",
        "1. Estructuras de Datos\n",
        "\n",
        "    **a.** Crear una lista llamada *numeros* que contenga los números del 1 al 10.\n",
        "\n",
        "    **b.** Crear una tupla llamada *meses* que contenga los nombres de los 12 meses del año.\n",
        "\n",
        "    **c.** Crear un diccionario llamado *notas* con el nombre de tres estudiantes como claves y sus respectivas notas como valores.\n",
        "\n",
        "    **d.** Crear un conjunto llamado *numeros_unicos* con algunos números, asegurándote de que no haya duplicados."
      ],
      "metadata": {
        "id": "TWBZAcooWFbG"
      }
    },
    {
      "cell_type": "code",
      "source": [
        "numeros=[1,2,3,4,5,6,7,8,9,10]\n",
        "meses = (\"enero\",\"febrero\",\"marzo\",\"abril\",\"mayo\",\"junio\",\"julio\",\"agosto\",\"septiembre\",\"octubre\",\"noviembre\",\"diciembre\")\n",
        "notas_list = ({\"nombre\":\"Germán\", \"nota\":8}, {\"nombre\":\"Matías\", \"nota\":4},{\"nombre\":\"Analía\", \"nota\":6})\n",
        "notas_dic = {\"Germán\":8, \"Matías\":4,\"Analía\":6}\n",
        "numeros_unicos = {0,2,4,6,8,10,12,14,16,18,20}\n",
        "\n",
        "print(type(numeros))\n",
        "print(numeros)\n",
        "print()\n",
        "print(type(meses))\n",
        "print(meses)\n",
        "print()\n",
        "print(type(notas_list))\n",
        "print(notas_list)\n",
        "print()\n",
        "print(type(notas_dic))\n",
        "print(notas_dic)\n",
        "print()\n",
        "print(type(numeros_unicos))\n",
        "print(numeros_unicos)"
      ],
      "metadata": {
        "colab": {
          "base_uri": "https://localhost:8080/"
        },
        "id": "XvctfiJnWg1b",
        "outputId": "aa6d9641-bfb0-4e53-bdc1-9685178a1d7f"
      },
      "execution_count": 7,
      "outputs": [
        {
          "output_type": "stream",
          "name": "stdout",
          "text": [
            "<class 'list'>\n",
            "[1, 2, 3, 4, 5, 6, 7, 8, 9, 10]\n",
            "\n",
            "<class 'tuple'>\n",
            "('enero', 'febrero', 'marzo', 'abril', 'mayo', 'junio', 'julio', 'agosto', 'septiembre', 'octubre', 'noviembre', 'diciembre')\n",
            "\n",
            "<class 'tuple'>\n",
            "({'nombre': 'Germán', 'nota': 8}, {'nombre': 'Matías', 'nota': 4}, {'nombre': 'Analía', 'nota': 6})\n",
            "\n",
            "<class 'dict'>\n",
            "{'Germán': 8, 'Matías': 4, 'Analía': 6}\n",
            "\n",
            "<class 'set'>\n",
            "{0, 2, 4, 6, 8, 10, 12, 14, 16, 18, 20}\n"
          ]
        }
      ]
    },
    {
      "cell_type": "markdown",
      "source": [
        "2. Modificación y Acceso\n",
        "\n",
        "    **a.** Modificar uno de los valores del diccionario notas (cambiar la nota de uno de los estudiantes).\n",
        "\n",
        "    **b.** Acceder a los elementos de la lista numeros y mostrar todos los números pares utilizando un bucle.\n",
        "\n",
        "    **c.** Acceder al primer mes de la tupla meses y al último mes. Mostrar ambos."
      ],
      "metadata": {
        "id": "-MRz5u-LXnGz"
      }
    },
    {
      "cell_type": "code",
      "source": [
        "print(f'la nota de Analía es {notas_dic['Analía']}')\n",
        "notas_dic['Analía'] = 10\n",
        "print(f'ahora la nota de Analía es {notas_dic['Analía']}')\n",
        "\n",
        "print()\n",
        "\n",
        "print(numeros)\n",
        "def act2_paresEnLista(lista):\n",
        "  paresEnLista=[]\n",
        "  for number in lista:\n",
        "    if number%2==0:\n",
        "      paresEnLista.append(number)\n",
        "  return paresEnLista\n",
        "print(act2_paresEnLista(numeros))\n",
        "\n",
        "print()\n",
        "\n",
        "print(f'El primer mes del año es {meses[0]}')\n",
        "print(f'El último mes del año es {meses[-1]}')"
      ],
      "metadata": {
        "colab": {
          "base_uri": "https://localhost:8080/"
        },
        "id": "L4z59jT5YSjl",
        "outputId": "ab995330-6458-47e5-853a-5c3b366e69b8"
      },
      "execution_count": 19,
      "outputs": [
        {
          "output_type": "stream",
          "name": "stdout",
          "text": [
            "la nota de Analía es 10\n",
            "ahora la nota de Analía es 10\n",
            "\n",
            "[1, 2, 3, 4, 5, 6, 7, 8, 9, 10]\n",
            "[2, 4, 6, 8, 10]\n",
            "\n",
            "El primer mes del año es enero\n",
            "El ultimo mes del año es diciembre\n"
          ]
        }
      ]
    },
    {
      "cell_type": "markdown",
      "source": [
        "3. Funciones Normales y Funciones Lambda\n",
        "\n",
        "    **a.** Definir una función normal llamada *multiplicar_por_dos* que tome un número y lo multiplique por 2. Utilizar esta función para crear una nueva lista llamada *dobles*, que contenga los dobles de los números en la lista numeros.\n",
        "\n",
        "    **b.** Definir una función lambda que haga lo mismo y utilizarla para crear una nueva lista llamada *dobles_lambda*, que contenga los dobles de los números en la lista numeros."
      ],
      "metadata": {
        "id": "s-ak342JpGnb"
      }
    },
    {
      "cell_type": "code",
      "source": [
        "def multiplicar_por_dos(lista):\n",
        "  dobles_fx=[]\n",
        "  for number in lista:\n",
        "    dobles_fx.append(number*2)\n",
        "  return dobles_fx\n",
        "dobles=multiplicar_por_dos(numeros)\n",
        "print(numeros)\n",
        "print(dobles)"
      ],
      "metadata": {
        "id": "DjRVJ5h1pVmq",
        "outputId": "fda2e5be-d63d-4fda-8e49-1e174a975225",
        "colab": {
          "base_uri": "https://localhost:8080/"
        }
      },
      "execution_count": 20,
      "outputs": [
        {
          "output_type": "stream",
          "name": "stdout",
          "text": [
            "[1, 2, 3, 4, 5, 6, 7, 8, 9, 10]\n",
            "[2, 4, 6, 8, 10, 12, 14, 16, 18, 20]\n"
          ]
        }
      ]
    }
  ]
}