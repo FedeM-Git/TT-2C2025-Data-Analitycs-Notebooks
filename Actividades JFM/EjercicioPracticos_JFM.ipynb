{
  "nbformat": 4,
  "nbformat_minor": 0,
  "metadata": {
    "colab": {
      "provenance": [],
      "include_colab_link": true
    },
    "kernelspec": {
      "name": "python3",
      "display_name": "Python 3"
    },
    "language_info": {
      "name": "python"
    }
  },
  "cells": [
    {
      "cell_type": "markdown",
      "metadata": {
        "id": "view-in-github",
        "colab_type": "text"
      },
      "source": [
        "<a href=\"https://colab.research.google.com/github/FedeM-Git/TT-2C2025-Data-Analitycs-Notebooks/blob/main/Actividades%20JFM/EjercicioPracticos_JFM.ipynb\" target=\"_parent\"><img src=\"https://colab.research.google.com/assets/colab-badge.svg\" alt=\"Open In Colab\"/></a>"
      ]
    },
    {
      "cell_type": "markdown",
      "source": [
        "#**CLASE 1**"
      ],
      "metadata": {
        "id": "USgzPOmeRYc0"
      }
    },
    {
      "cell_type": "markdown",
      "source": [
        "# Actividades"
      ],
      "metadata": {
        "id": "gCJoH7KuEUga"
      }
    },
    {
      "cell_type": "markdown",
      "source": [
        "## Actividad 1"
      ],
      "metadata": {
        "id": "NHa-sP3zJ8Db"
      }
    },
    {
      "cell_type": "markdown",
      "source": [
        "  Creá tu propio bloque de texto. Utiliza:\n",
        "  - formatos de texto\n",
        "  - links\n",
        "  - al menos una imagen de tu carpeta Drive"
      ],
      "metadata": {
        "id": "ZlSXlWj4KAZZ"
      }
    },
    {
      "cell_type": "markdown",
      "source": [
        "## Actividad 2"
      ],
      "metadata": {
        "id": "LTFeKV5uKDPK"
      }
    },
    {
      "cell_type": "markdown",
      "source": [
        "Creá un bloque de código con un programa que pida un número por teclado, y responda si es par o impar. Ejecutalo."
      ],
      "metadata": {
        "id": "NfVvRVxMKUu8"
      }
    },
    {
      "cell_type": "markdown",
      "source": [
        "#**Iniciando Data Analytics with Python**\n",
        "\n",
        "\n",
        "\n"
      ],
      "metadata": {
        "id": "yS6iVVlDL3WO"
      }
    },
    {
      "cell_type": "markdown",
      "source": [
        "Como primer tarea se nos pidio armar un bloque con diferentes formatos de texto, links y una imagen. Para que me quede una muestra de cada uno, armé la siguiente lista:\n",
        "\n",
        "1. Esta lista de formatos:\n",
        "    - > Cita\n",
        "\n",
        "    - **negrita**\n",
        "\n",
        "    - ***negrita y cursiva***\n",
        "\n",
        "    - *cursiva*\n",
        "\n",
        "2. Estos Elementos:\n",
        "    - [Enlace a Imagen](https://drive.google.com/file/d/1BcoOSDWlLsbF-9obYlW_EgQ6v0FEVs5F/view?usp=drive_link)\n",
        "\n",
        "    - Esta Imagen:\n",
        "<img src=\"https://drive.google.com/uc?id=1BcoOSDWlLsbF-9obYlW_EgQ6v0FEVs5F\">\n",
        "\n",
        "    Esto es una Doble Tabulación\n",
        "    Sigue la doble Tabulacion\n",
        "No hay Tabulación\n",
        "\n",
        "  Tabulación Simple\n"
      ],
      "metadata": {
        "id": "PM3QE1SR0N9j"
      }
    },
    {
      "cell_type": "markdown",
      "source": [
        "Como Actividad 2 debemos elabror un bloque de código que nos pida un número e indique si es par o impar"
      ],
      "metadata": {
        "id": "_RoD5J5FqqwB"
      }
    },
    {
      "cell_type": "code",
      "source": [
        "print(\"¿Con quén estoy hablando?\")\n",
        "nombre=input()\n",
        "print(\"Hola \", nombre, \", por favor ingresá un número:\")\n",
        "numero=int(input())\n",
        "if numero%2==0:\n",
        "  print(numero, \" es un número PAR\")\n",
        "else:\n",
        "  print(nombre, \", \",numero, \"es un número IMPAR\")\n",
        "\n"
      ],
      "metadata": {
        "id": "3BCouk_k4MyV"
      },
      "execution_count": null,
      "outputs": []
    },
    {
      "cell_type": "markdown",
      "source": [
        "#**CLASE 2**"
      ],
      "metadata": {
        "id": "GgaAd1FEUx6v"
      }
    },
    {
      "cell_type": "markdown",
      "source": [
        "#Actividad: Manipulación de Estructuras de Datos en Python\n",
        "Contexto:\n",
        "\n",
        "¡Bienvenido a esta emocionante actividad en tu proceso de selección en SynthData! Esta vez, trabajarás en la manipulación de diferentes estructuras de datos en Python, contando con la guía de Sabrina, nuestra Data Engineer. Este ejercicio es ideal para fortalecer tus habilidades en el manejo y transformación de datos con Python, lo cual es esencial para tus futuras tareas en el análisis de datos.\n",
        "\n",
        "En esta actividad, te centrarás en crear y manipular diferentes estructuras de datos en Python. Desde listas y diccionarios, hasta el uso de funciones y comprehensions, tendrás la oportunidad de experimentar de manera práctica con estas herramientas. Al finalizar, estarás más preparado para aplicar estas técnicas en proyectos del mundo real.\n",
        "\n",
        "Objetivos:\n",
        "  * Crear y manipular diversas estructuras de datos, aplicando tanto funciones normales como funciones lambda.\n",
        "  * Utilizar comprehensions para crear listas\n",
        "\n"
      ],
      "metadata": {
        "id": "lzmAC5ibU56O"
      }
    },
    {
      "cell_type": "markdown",
      "source": [
        "#Ejercicio Práctico\n",
        "1. Estructuras de Datos\n",
        "\n",
        "    **a.** Crear una lista llamada *numeros* que contenga los números del 1 al 10.\n",
        "\n",
        "    **b.** Crear una tupla llamada *meses* que contenga los nombres de los 12 meses del año.\n",
        "\n",
        "    **c.** Crear un diccionario llamado *notas* con el nombre de tres estudiantes como claves y sus respectivas notas como valores.\n",
        "\n",
        "    **d.** Crear un conjunto llamado *numeros_unicos* con algunos números, asegurándote de que no haya duplicados."
      ],
      "metadata": {
        "id": "TWBZAcooWFbG"
      }
    },
    {
      "cell_type": "code",
      "source": [
        "# 1a\n",
        "numeros=[1,2,3,4,5,6,7,8,9,10]\n",
        "# 1b\n",
        "meses = (\"enero\",\"febrero\",\"marzo\",\"abril\",\"mayo\",\"junio\",\"julio\",\"agosto\",\"septiembre\",\"octubre\",\"noviembre\",\"diciembre\")\n",
        "# 1c\n",
        "notas_list = ({\"nombre\":\"Germán\", \"nota\":8}, {\"nombre\":\"Matías\", \"nota\":4},{\"nombre\":\"Analía\", \"nota\":6})\n",
        "notas_dic = {\"Germán\":8, \"Matías\":4,\"Analía\":6}\n",
        "# 1d\n",
        "numeros_unicos = {0,2,4,6,8,10,12,14,16,18,20}\n",
        "\n",
        "print(type(numeros))\n",
        "print(numeros)\n",
        "print()\n",
        "print(type(meses))\n",
        "print(meses)\n",
        "print()\n",
        "print(type(notas_list))\n",
        "print(notas_list)\n",
        "print()\n",
        "print(type(notas_dic))\n",
        "print(notas_dic)\n",
        "print()\n",
        "print(type(numeros_unicos))\n",
        "print(numeros_unicos)"
      ],
      "metadata": {
        "colab": {
          "base_uri": "https://localhost:8080/"
        },
        "id": "XvctfiJnWg1b",
        "outputId": "8954e3ba-e933-4b9c-d139-6f8157ec0a30"
      },
      "execution_count": null,
      "outputs": [
        {
          "output_type": "stream",
          "name": "stdout",
          "text": [
            "<class 'list'>\n",
            "[1, 2, 3, 4, 5, 6, 7, 8, 9, 10]\n",
            "\n",
            "<class 'tuple'>\n",
            "('enero', 'febrero', 'marzo', 'abril', 'mayo', 'junio', 'julio', 'agosto', 'septiembre', 'octubre', 'noviembre', 'diciembre')\n",
            "\n",
            "<class 'tuple'>\n",
            "({'nombre': 'Germán', 'nota': 8}, {'nombre': 'Matías', 'nota': 4}, {'nombre': 'Analía', 'nota': 6})\n",
            "\n",
            "<class 'dict'>\n",
            "{'Germán': 8, 'Matías': 4, 'Analía': 6}\n",
            "\n",
            "<class 'set'>\n",
            "{0, 2, 4, 6, 8, 10, 12, 14, 16, 18, 20}\n"
          ]
        }
      ]
    },
    {
      "cell_type": "markdown",
      "source": [
        "2. Modificación y Acceso\n",
        "\n",
        "    **a.** Modificar uno de los valores del diccionario notas (cambiar la nota de uno de los estudiantes).\n",
        "\n",
        "    **b.** Acceder a los elementos de la lista numeros y mostrar todos los números pares utilizando un bucle.\n",
        "\n",
        "    **c.** Acceder al primer mes de la tupla meses y al último mes. Mostrar ambos."
      ],
      "metadata": {
        "id": "-MRz5u-LXnGz"
      }
    },
    {
      "cell_type": "code",
      "source": [
        "# 2a\n",
        "print(f'la nota de Analía es {notas_dic['Analía']}')\n",
        "notas_dic['Analía'] = 10\n",
        "print(f'ahora la nota de Analía es {notas_dic['Analía']}')\n",
        "\n",
        "print()\n",
        "\n",
        "# 2b\n",
        "print(numeros)\n",
        "def act2_paresEnLista(lista):\n",
        "  paresEnLista=[]\n",
        "  for number in lista:\n",
        "    if number%2==0:\n",
        "      paresEnLista.append(number)\n",
        "  return paresEnLista\n",
        "print(act2_paresEnLista(numeros))\n",
        "\n",
        "print()\n",
        "\n",
        "# 2c\n",
        "print(f'El primer mes del año es {meses[0]}')\n",
        "print(f'El último mes del año es {meses[-1]}')"
      ],
      "metadata": {
        "colab": {
          "base_uri": "https://localhost:8080/"
        },
        "id": "L4z59jT5YSjl",
        "outputId": "ab995330-6458-47e5-853a-5c3b366e69b8"
      },
      "execution_count": null,
      "outputs": [
        {
          "output_type": "stream",
          "name": "stdout",
          "text": [
            "la nota de Analía es 10\n",
            "ahora la nota de Analía es 10\n",
            "\n",
            "[1, 2, 3, 4, 5, 6, 7, 8, 9, 10]\n",
            "[2, 4, 6, 8, 10]\n",
            "\n",
            "El primer mes del año es enero\n",
            "El ultimo mes del año es diciembre\n"
          ]
        }
      ]
    },
    {
      "cell_type": "markdown",
      "source": [
        "3. Funciones Normales y Funciones Lambda\n",
        "\n",
        "    **a.** Definir una función normal llamada *multiplicar_por_dos* que tome un número y lo multiplique por 2. Utilizar esta función para crear una nueva lista llamada *dobles*, que contenga los dobles de los números en la lista numeros.\n",
        "\n",
        "    **b.** Definir una función lambda que haga lo mismo y utilizarla para crear una nueva lista llamada *dobles_lambda*, que contenga los dobles de los números en la lista numeros."
      ],
      "metadata": {
        "id": "s-ak342JpGnb"
      }
    },
    {
      "cell_type": "code",
      "source": [
        "# 3a\n",
        "def multiplicar_por_dos(lista):\n",
        "  dobles_fx=[]\n",
        "  for number in lista:\n",
        "    dobles_fx.append(number*2)\n",
        "  return dobles_fx\n",
        "dobles=multiplicar_por_dos(numeros)\n",
        "print(numeros)\n",
        "print(dobles)\n",
        "\n",
        "# 3b\n",
        "\n",
        "dobles_lambda = list(map(lambda x: x*2, numeros))\n",
        "print(dobles_lambda)"
      ],
      "metadata": {
        "id": "DjRVJ5h1pVmq",
        "outputId": "51d24844-effb-4a79-fb4d-c563c933304b",
        "colab": {
          "base_uri": "https://localhost:8080/"
        }
      },
      "execution_count": null,
      "outputs": [
        {
          "output_type": "stream",
          "name": "stdout",
          "text": [
            "[1, 2, 3, 4, 5, 6, 7, 8, 9, 10]\n",
            "[2, 4, 6, 8, 10, 12, 14, 16, 18, 20]\n",
            "[2, 4, 6, 8, 10, 12, 14, 16, 18, 20]\n"
          ]
        }
      ]
    },
    {
      "cell_type": "markdown",
      "source": [
        "4. Comprehensions\n",
        "\n",
        "    **a.** Utilizar list comprehensions para crear una lista llamada *cuadrados* que contenga los cuadrados de los números en la lista *numeros*.\n",
        "\n",
        "    **b.** Utilizar dict comprehensions para crear un diccionario llamado *cubos* que contenga los números de la lista *numeros* como claves y sus cubos como valores.\n"
      ],
      "metadata": {
        "id": "VQbbBpQGXdU6"
      }
    },
    {
      "cell_type": "code",
      "source": [
        "#4a\n",
        "import math\n",
        "print(\"Esta es la lista Numeros:\")\n",
        "print(numeros)\n",
        "cuadrados = [pow(numero,2) for numero in numeros]\n",
        "print(\"Esta es una lista con los cuadrados\")\n",
        "print(cuadrados)\n",
        "#4b\n",
        "print()\n",
        "cubos = {numero:pow(numero,3) for numero in numeros}\n",
        "print(\"Este es un diccionario con los cubos:\")\n",
        "print(cubos)"
      ],
      "metadata": {
        "id": "2P1aOiU4X-AJ",
        "outputId": "e5f5079d-6ae0-4008-ad59-4de47a4c1b24",
        "colab": {
          "base_uri": "https://localhost:8080/"
        }
      },
      "execution_count": null,
      "outputs": [
        {
          "output_type": "stream",
          "name": "stdout",
          "text": [
            "Esta es la lista Numeros:\n",
            "[1, 2, 3, 4, 5, 6, 7, 8, 9, 10]\n",
            "Esta es una lista con los cuadrados\n",
            "[1, 4, 9, 16, 25, 36, 49, 64, 81, 100]\n",
            "\n",
            "Este es un diccionario con los cubos:\n",
            "{1: 1, 2: 8, 3: 27, 4: 64, 5: 125, 6: 216, 7: 343, 8: 512, 9: 729, 10: 1000}\n"
          ]
        }
      ]
    },
    {
      "cell_type": "markdown",
      "source": [
        "5. Comparación de resultados\n",
        "\n",
        "    **a.** Mostrar las listas dobles, dobles_lambda y cuadrados. Comparar sus resultados y argumentar cuál es el mejor método.\n",
        "\n",
        "    **b.** Imprimir el diccionario cubos y comparar con la creación de un diccionario usando un método convencional."
      ],
      "metadata": {
        "id": "rFzrdhozX1u3"
      }
    },
    {
      "cell_type": "code",
      "source": [
        "#5a\n",
        "print('Lista \"dobles\":')\n",
        "print(dobles)\n",
        "\n",
        "print('\\nLista \"dobles_Lambda\":')\n",
        "print(dobles_lambda)\n",
        "\n",
        "print('\\nLista \"cuadrados\":')\n",
        "print(cuadrados)\n",
        "\n",
        "#5b\n",
        "print('\\nDiccionario \"cubos\":')\n",
        "print(cubos)\n",
        "\n"
      ],
      "metadata": {
        "id": "ExATO7TrYIRQ",
        "outputId": "d2905b64-eb6b-42ff-8fac-1259567cd23a",
        "colab": {
          "base_uri": "https://localhost:8080/"
        }
      },
      "execution_count": null,
      "outputs": [
        {
          "output_type": "stream",
          "name": "stdout",
          "text": [
            "Lista \"dobles\":\n",
            "[2, 4, 6, 8, 10, 12, 14, 16, 18, 20]\n",
            "\n",
            "Lista \"dobles_Lambda\":\n",
            "[2, 4, 6, 8, 10, 12, 14, 16, 18, 20]\n",
            "\n",
            "Lista \"cuadrados\":\n",
            "[1, 4, 9, 16, 25, 36, 49, 64, 81, 100]\n",
            "\n",
            "Diccionario \"cubos\":\n",
            "{1: 1, 2: 8, 3: 27, 4: 64, 5: 125, 6: 216, 7: 343, 8: 512, 9: 729, 10: 1000}\n"
          ]
        }
      ]
    },
    {
      "cell_type": "markdown",
      "source": [
        ">Tanto en la creación nuevas listas o diccionarios a partir de daton anteriores me resultó más practico los métodos de *comprehension*"
      ],
      "metadata": {
        "id": "WFUVPWbWvNCt"
      }
    },
    {
      "cell_type": "markdown",
      "source": [
        "#**CLASE 3**"
      ],
      "metadata": {
        "id": "Xhj_1Az4R5CB"
      }
    },
    {
      "cell_type": "markdown",
      "source": [
        "#Actividad 1: Tipo de Parámetros\n",
        "\n",
        "**Objetivos:**\n",
        "\n",
        "  * Aprender a crear funciones con diferentes tipos de parámetros en Python.\n",
        "  * Practicar la implementación de funciones para resolver problemas comunes de datos.\n",
        "\n",
        "**Contexto:**\n",
        "\n",
        "   El mentor a cargo de esta actividad es Matías, Data Analyst en SynthData. Su enfoque estará en ayudarte a comprender cómo funcionan los parámetros en la programación, ya que son esenciales para manipular datos de manera efectiva.\n",
        "\n",
        "**Consigna:**"
      ],
      "metadata": {
        "id": "GDi5R-5pSWDo"
      }
    },
    {
      "cell_type": "markdown",
      "source": [
        "1. Parámetros Posicionales: Crear una función llamada multiplicar que reciba dos números y devuelva su producto. Probar la función con diferentes pares de números."
      ],
      "metadata": {
        "id": "RXG_J3sxTkDw"
      }
    },
    {
      "cell_type": "code",
      "source": [
        "def multiplicar (num1, num2):\n",
        "  return num1*num2\n",
        "\n",
        "print(multiplicar(5,10))\n",
        "print(multiplicar(2,3))\n",
        "print(multiplicar(5,5))\n",
        "print(multiplicar(12,10))"
      ],
      "metadata": {
        "id": "p0aDBMzrT1Lb",
        "outputId": "7d2043cd-4d7e-47a8-90a0-2c9dd3632b6f",
        "colab": {
          "base_uri": "https://localhost:8080/"
        }
      },
      "execution_count": null,
      "outputs": [
        {
          "output_type": "stream",
          "name": "stdout",
          "text": [
            "50\n",
            "6\n",
            "25\n",
            "120\n"
          ]
        }
      ]
    },
    {
      "cell_type": "markdown",
      "source": [
        "2. Parámetros por Defecto: Crear una función llamada bienvenida que reciba un nombre y un mensaje de bienvenida. El mensaje debe tener un valor por defecto de \"¡Bienvenido!\". Si no se proporciona un mensaje, la función debe usar el valor por defecto. Probar la función proporcionando solo el nombre y con el mensaje.\n"
      ],
      "metadata": {
        "id": "aRMx1cX8T1oU"
      }
    },
    {
      "cell_type": "code",
      "source": [
        "def bienvenida(usuario=\"Usuario\", mensaje=\"¡Bienvenido!\"):\n",
        "  return(f'{usuario} dice: {mensaje}')\n",
        "print(bienvenida(\"Esteban\", \"Hola, les deseo buen inicio de curso.\"))\n",
        "print(bienvenida())\n"
      ],
      "metadata": {
        "id": "9fg-lNE9T5JN",
        "outputId": "b7a0f654-dd80-44f8-8000-ab4c94573435",
        "colab": {
          "base_uri": "https://localhost:8080/"
        }
      },
      "execution_count": null,
      "outputs": [
        {
          "output_type": "stream",
          "name": "stdout",
          "text": [
            "Esteban dice: Hola, les deseo buen inicio de curso.\n",
            "Usuario dice: ¡Bienvenido!\n"
          ]
        }
      ]
    },
    {
      "cell_type": "markdown",
      "source": [
        "3. Parámetros Indefinidos (*args): Crear una función llamada calcular_promedio que acepte un número variable de notas (posicionales) y devuelva el promedio de esas notas. Probar la función con diferentes cantidades de notas."
      ],
      "metadata": {
        "id": "WtTyFdZlT5u7"
      }
    },
    {
      "cell_type": "code",
      "source": [
        "def promedio (*args):\n",
        "  suma=0\n",
        "  elementos=0\n",
        "  for numero in args:\n",
        "    suma +=numero\n",
        "    elementos +=1\n",
        "  return suma/elementos\n",
        "\n",
        "print(promedio(5,6,7,8,9))"
      ],
      "metadata": {
        "id": "FPTZnyxMT-Ii",
        "outputId": "950b5d1e-21d6-4c65-c9a1-c7e6df501d69",
        "colab": {
          "base_uri": "https://localhost:8080/"
        }
      },
      "execution_count": null,
      "outputs": [
        {
          "output_type": "stream",
          "name": "stdout",
          "text": [
            "7.0\n"
          ]
        }
      ]
    },
    {
      "cell_type": "markdown",
      "source": [
        "4. Parámetros de Palabras Clave Indefinidas (**kwargs): Crear una función llamada concatena_info que reciba un nombre y un número indefinido de palabras clave (por ejemplo, edad, ciudad, ocupación) y devuelva un string que combine todos los datos. Probar la función pasando varios pares de clave-valor."
      ],
      "metadata": {
        "id": "Ks1gD-sZT-XS"
      }
    },
    {
      "cell_type": "code",
      "source": [
        "def concatena_info(nombre,**kwargs):\n",
        "  info=f'{nombre}:\\n'\n",
        "  for clave, valor in kwargs.items():\n",
        "    info += f'{clave}: {valor}\\n'\n",
        "  return info\n",
        "\n",
        "print(concatena_info(\"Ricardo\", edad=40, ciudad=\"Tandil\", ocupación=\"comerciante\", dni= \"30.123.456\"))"
      ],
      "metadata": {
        "id": "v6OjpiNCUCPB",
        "outputId": "ce71d4ec-52e9-4a4e-d15e-7b115ea065ce",
        "colab": {
          "base_uri": "https://localhost:8080/"
        }
      },
      "execution_count": 1,
      "outputs": [
        {
          "output_type": "stream",
          "name": "stdout",
          "text": [
            "Ricardo:\n",
            "edad: 40\n",
            "ciudad: Tandil\n",
            "ocupación: comerciante\n",
            "dni: 30.123.456\n",
            "\n"
          ]
        }
      ]
    },
    {
      "cell_type": "markdown",
      "source": [
        "#Actividad 2: Introducción a NumPy y Pandas\n",
        "**Objetivos:**\n",
        "\n",
        "•\tAprender a cargar y visualizar archivos CSV, Google Sheets y Excel utilizando Pandas.\n",
        "\n",
        "•\tFamiliarizarse con las operaciones básicas de visualización de datos.\n",
        "\n",
        "**Contexto:**\n",
        "\n",
        "La mentoría para esta actividad estará a cargo de Luis, el Analista de BI. Luis te guiará en la carga y manipulación de datos utilizando Pandas, una herramienta para el análisis de datos.\n",
        "\n",
        "**Consigna:**\n",
        "\n",
        "1.\tCargar un csv en Google Colab y visualizar sus primeras filas usando Pandas.\n",
        "2.\tRepetir el ejercicio anterior con una planilla de Google Sheets.\n",
        "3.\tInvestigá el método para cargar planillas de Excel en Google Colab, utilizando Pandas, y repetí el ejercicio del punto 1.\n",
        "\n",
        "**Datos:**\n",
        "\n",
        "1.\t[ventas.csv](https://drive.google.com/file/d/1Ug54tBUCwJjo326RpZI-EhJwXOIEoMbF/view?usp=drive_link)\n",
        "2.\t[ventas](https://docs.google.com/spreadsheets/d/1NdARabC6LFPPTHLL3BgOKAgl6GSuEIEqtyiOYi8vStk/edit?usp=drive_link)\n",
        "3.\tUtiliza una planilla de excel que tengas en tu PC\n",
        "\n",
        "\n"
      ],
      "metadata": {
        "id": "XSAAXCM8V4F4"
      }
    },
    {
      "cell_type": "code",
      "source": [
        "# Montar la unidad\n",
        "from google.colab import drive\n",
        "drive.mount('/content/drive')\n",
        "\n",
        "# Importar la librería Pandas\n",
        "import pandas as pd\n",
        "\n",
        "# Acceso a CVS GoogleDrive\n",
        "df_cvs = pd.read_csv(\"/content/drive/MyDrive/2025_Data Analytics with Python/Datasets/03.-ventas.csv\")\n",
        "df_cvs.head()\n",
        "\n",
        "# Liberar la unidad\n",
        "#drive.flush_and_unmount()"
      ],
      "metadata": {
        "id": "_tAJTABgfKm3",
        "outputId": "e7c467d6-058d-4359-edc6-9b9f17e14313",
        "colab": {
          "base_uri": "https://localhost:8080/",
          "height": 244
        }
      },
      "execution_count": 10,
      "outputs": [
        {
          "output_type": "stream",
          "name": "stdout",
          "text": [
            "Drive already mounted at /content/drive; to attempt to forcibly remount, call drive.mount(\"/content/drive\", force_remount=True).\n"
          ]
        },
        {
          "output_type": "execute_result",
          "data": {
            "text/plain": [
              "        Fecha     Vendedor Sede Entrega    Producto     Importe\n",
              "0  06/11/2020  Vendedor 10       Sede D  Producto Z   $75880.72\n",
              "1  01/10/2021  Vendedor 10       Sede D  Producto Y  $279412.05\n",
              "2  09/05/2021   Vendedor 4       Sede A  Producto W         NaN\n",
              "3  07/10/2021   Vendedor 3       Sede D  Producto U   $33830.98\n",
              "4  02/08/2021   Vendedor 3       Sede C  Producto U  $205706.84"
            ],
            "text/html": [
              "\n",
              "  <div id=\"df-ab9b185f-04b5-4903-b78d-c6982d1a7966\" class=\"colab-df-container\">\n",
              "    <div>\n",
              "<style scoped>\n",
              "    .dataframe tbody tr th:only-of-type {\n",
              "        vertical-align: middle;\n",
              "    }\n",
              "\n",
              "    .dataframe tbody tr th {\n",
              "        vertical-align: top;\n",
              "    }\n",
              "\n",
              "    .dataframe thead th {\n",
              "        text-align: right;\n",
              "    }\n",
              "</style>\n",
              "<table border=\"1\" class=\"dataframe\">\n",
              "  <thead>\n",
              "    <tr style=\"text-align: right;\">\n",
              "      <th></th>\n",
              "      <th>Fecha</th>\n",
              "      <th>Vendedor</th>\n",
              "      <th>Sede Entrega</th>\n",
              "      <th>Producto</th>\n",
              "      <th>Importe</th>\n",
              "    </tr>\n",
              "  </thead>\n",
              "  <tbody>\n",
              "    <tr>\n",
              "      <th>0</th>\n",
              "      <td>06/11/2020</td>\n",
              "      <td>Vendedor 10</td>\n",
              "      <td>Sede D</td>\n",
              "      <td>Producto Z</td>\n",
              "      <td>$75880.72</td>\n",
              "    </tr>\n",
              "    <tr>\n",
              "      <th>1</th>\n",
              "      <td>01/10/2021</td>\n",
              "      <td>Vendedor 10</td>\n",
              "      <td>Sede D</td>\n",
              "      <td>Producto Y</td>\n",
              "      <td>$279412.05</td>\n",
              "    </tr>\n",
              "    <tr>\n",
              "      <th>2</th>\n",
              "      <td>09/05/2021</td>\n",
              "      <td>Vendedor 4</td>\n",
              "      <td>Sede A</td>\n",
              "      <td>Producto W</td>\n",
              "      <td>NaN</td>\n",
              "    </tr>\n",
              "    <tr>\n",
              "      <th>3</th>\n",
              "      <td>07/10/2021</td>\n",
              "      <td>Vendedor 3</td>\n",
              "      <td>Sede D</td>\n",
              "      <td>Producto U</td>\n",
              "      <td>$33830.98</td>\n",
              "    </tr>\n",
              "    <tr>\n",
              "      <th>4</th>\n",
              "      <td>02/08/2021</td>\n",
              "      <td>Vendedor 3</td>\n",
              "      <td>Sede C</td>\n",
              "      <td>Producto U</td>\n",
              "      <td>$205706.84</td>\n",
              "    </tr>\n",
              "  </tbody>\n",
              "</table>\n",
              "</div>\n",
              "    <div class=\"colab-df-buttons\">\n",
              "\n",
              "  <div class=\"colab-df-container\">\n",
              "    <button class=\"colab-df-convert\" onclick=\"convertToInteractive('df-ab9b185f-04b5-4903-b78d-c6982d1a7966')\"\n",
              "            title=\"Convert this dataframe to an interactive table.\"\n",
              "            style=\"display:none;\">\n",
              "\n",
              "  <svg xmlns=\"http://www.w3.org/2000/svg\" height=\"24px\" viewBox=\"0 -960 960 960\">\n",
              "    <path d=\"M120-120v-720h720v720H120Zm60-500h600v-160H180v160Zm220 220h160v-160H400v160Zm0 220h160v-160H400v160ZM180-400h160v-160H180v160Zm440 0h160v-160H620v160ZM180-180h160v-160H180v160Zm440 0h160v-160H620v160Z\"/>\n",
              "  </svg>\n",
              "    </button>\n",
              "\n",
              "  <style>\n",
              "    .colab-df-container {\n",
              "      display:flex;\n",
              "      gap: 12px;\n",
              "    }\n",
              "\n",
              "    .colab-df-convert {\n",
              "      background-color: #E8F0FE;\n",
              "      border: none;\n",
              "      border-radius: 50%;\n",
              "      cursor: pointer;\n",
              "      display: none;\n",
              "      fill: #1967D2;\n",
              "      height: 32px;\n",
              "      padding: 0 0 0 0;\n",
              "      width: 32px;\n",
              "    }\n",
              "\n",
              "    .colab-df-convert:hover {\n",
              "      background-color: #E2EBFA;\n",
              "      box-shadow: 0px 1px 2px rgba(60, 64, 67, 0.3), 0px 1px 3px 1px rgba(60, 64, 67, 0.15);\n",
              "      fill: #174EA6;\n",
              "    }\n",
              "\n",
              "    .colab-df-buttons div {\n",
              "      margin-bottom: 4px;\n",
              "    }\n",
              "\n",
              "    [theme=dark] .colab-df-convert {\n",
              "      background-color: #3B4455;\n",
              "      fill: #D2E3FC;\n",
              "    }\n",
              "\n",
              "    [theme=dark] .colab-df-convert:hover {\n",
              "      background-color: #434B5C;\n",
              "      box-shadow: 0px 1px 3px 1px rgba(0, 0, 0, 0.15);\n",
              "      filter: drop-shadow(0px 1px 2px rgba(0, 0, 0, 0.3));\n",
              "      fill: #FFFFFF;\n",
              "    }\n",
              "  </style>\n",
              "\n",
              "    <script>\n",
              "      const buttonEl =\n",
              "        document.querySelector('#df-ab9b185f-04b5-4903-b78d-c6982d1a7966 button.colab-df-convert');\n",
              "      buttonEl.style.display =\n",
              "        google.colab.kernel.accessAllowed ? 'block' : 'none';\n",
              "\n",
              "      async function convertToInteractive(key) {\n",
              "        const element = document.querySelector('#df-ab9b185f-04b5-4903-b78d-c6982d1a7966');\n",
              "        const dataTable =\n",
              "          await google.colab.kernel.invokeFunction('convertToInteractive',\n",
              "                                                    [key], {});\n",
              "        if (!dataTable) return;\n",
              "\n",
              "        const docLinkHtml = 'Like what you see? Visit the ' +\n",
              "          '<a target=\"_blank\" href=https://colab.research.google.com/notebooks/data_table.ipynb>data table notebook</a>'\n",
              "          + ' to learn more about interactive tables.';\n",
              "        element.innerHTML = '';\n",
              "        dataTable['output_type'] = 'display_data';\n",
              "        await google.colab.output.renderOutput(dataTable, element);\n",
              "        const docLink = document.createElement('div');\n",
              "        docLink.innerHTML = docLinkHtml;\n",
              "        element.appendChild(docLink);\n",
              "      }\n",
              "    </script>\n",
              "  </div>\n",
              "\n",
              "\n",
              "    <div id=\"df-59987734-f9ae-463b-af86-382dad4b7507\">\n",
              "      <button class=\"colab-df-quickchart\" onclick=\"quickchart('df-59987734-f9ae-463b-af86-382dad4b7507')\"\n",
              "                title=\"Suggest charts\"\n",
              "                style=\"display:none;\">\n",
              "\n",
              "<svg xmlns=\"http://www.w3.org/2000/svg\" height=\"24px\"viewBox=\"0 0 24 24\"\n",
              "     width=\"24px\">\n",
              "    <g>\n",
              "        <path d=\"M19 3H5c-1.1 0-2 .9-2 2v14c0 1.1.9 2 2 2h14c1.1 0 2-.9 2-2V5c0-1.1-.9-2-2-2zM9 17H7v-7h2v7zm4 0h-2V7h2v10zm4 0h-2v-4h2v4z\"/>\n",
              "    </g>\n",
              "</svg>\n",
              "      </button>\n",
              "\n",
              "<style>\n",
              "  .colab-df-quickchart {\n",
              "      --bg-color: #E8F0FE;\n",
              "      --fill-color: #1967D2;\n",
              "      --hover-bg-color: #E2EBFA;\n",
              "      --hover-fill-color: #174EA6;\n",
              "      --disabled-fill-color: #AAA;\n",
              "      --disabled-bg-color: #DDD;\n",
              "  }\n",
              "\n",
              "  [theme=dark] .colab-df-quickchart {\n",
              "      --bg-color: #3B4455;\n",
              "      --fill-color: #D2E3FC;\n",
              "      --hover-bg-color: #434B5C;\n",
              "      --hover-fill-color: #FFFFFF;\n",
              "      --disabled-bg-color: #3B4455;\n",
              "      --disabled-fill-color: #666;\n",
              "  }\n",
              "\n",
              "  .colab-df-quickchart {\n",
              "    background-color: var(--bg-color);\n",
              "    border: none;\n",
              "    border-radius: 50%;\n",
              "    cursor: pointer;\n",
              "    display: none;\n",
              "    fill: var(--fill-color);\n",
              "    height: 32px;\n",
              "    padding: 0;\n",
              "    width: 32px;\n",
              "  }\n",
              "\n",
              "  .colab-df-quickchart:hover {\n",
              "    background-color: var(--hover-bg-color);\n",
              "    box-shadow: 0 1px 2px rgba(60, 64, 67, 0.3), 0 1px 3px 1px rgba(60, 64, 67, 0.15);\n",
              "    fill: var(--button-hover-fill-color);\n",
              "  }\n",
              "\n",
              "  .colab-df-quickchart-complete:disabled,\n",
              "  .colab-df-quickchart-complete:disabled:hover {\n",
              "    background-color: var(--disabled-bg-color);\n",
              "    fill: var(--disabled-fill-color);\n",
              "    box-shadow: none;\n",
              "  }\n",
              "\n",
              "  .colab-df-spinner {\n",
              "    border: 2px solid var(--fill-color);\n",
              "    border-color: transparent;\n",
              "    border-bottom-color: var(--fill-color);\n",
              "    animation:\n",
              "      spin 1s steps(1) infinite;\n",
              "  }\n",
              "\n",
              "  @keyframes spin {\n",
              "    0% {\n",
              "      border-color: transparent;\n",
              "      border-bottom-color: var(--fill-color);\n",
              "      border-left-color: var(--fill-color);\n",
              "    }\n",
              "    20% {\n",
              "      border-color: transparent;\n",
              "      border-left-color: var(--fill-color);\n",
              "      border-top-color: var(--fill-color);\n",
              "    }\n",
              "    30% {\n",
              "      border-color: transparent;\n",
              "      border-left-color: var(--fill-color);\n",
              "      border-top-color: var(--fill-color);\n",
              "      border-right-color: var(--fill-color);\n",
              "    }\n",
              "    40% {\n",
              "      border-color: transparent;\n",
              "      border-right-color: var(--fill-color);\n",
              "      border-top-color: var(--fill-color);\n",
              "    }\n",
              "    60% {\n",
              "      border-color: transparent;\n",
              "      border-right-color: var(--fill-color);\n",
              "    }\n",
              "    80% {\n",
              "      border-color: transparent;\n",
              "      border-right-color: var(--fill-color);\n",
              "      border-bottom-color: var(--fill-color);\n",
              "    }\n",
              "    90% {\n",
              "      border-color: transparent;\n",
              "      border-bottom-color: var(--fill-color);\n",
              "    }\n",
              "  }\n",
              "</style>\n",
              "\n",
              "      <script>\n",
              "        async function quickchart(key) {\n",
              "          const quickchartButtonEl =\n",
              "            document.querySelector('#' + key + ' button');\n",
              "          quickchartButtonEl.disabled = true;  // To prevent multiple clicks.\n",
              "          quickchartButtonEl.classList.add('colab-df-spinner');\n",
              "          try {\n",
              "            const charts = await google.colab.kernel.invokeFunction(\n",
              "                'suggestCharts', [key], {});\n",
              "          } catch (error) {\n",
              "            console.error('Error during call to suggestCharts:', error);\n",
              "          }\n",
              "          quickchartButtonEl.classList.remove('colab-df-spinner');\n",
              "          quickchartButtonEl.classList.add('colab-df-quickchart-complete');\n",
              "        }\n",
              "        (() => {\n",
              "          let quickchartButtonEl =\n",
              "            document.querySelector('#df-59987734-f9ae-463b-af86-382dad4b7507 button');\n",
              "          quickchartButtonEl.style.display =\n",
              "            google.colab.kernel.accessAllowed ? 'block' : 'none';\n",
              "        })();\n",
              "      </script>\n",
              "    </div>\n",
              "\n",
              "    </div>\n",
              "  </div>\n"
            ],
            "application/vnd.google.colaboratory.intrinsic+json": {
              "type": "dataframe",
              "summary": "{\n  \"name\": \"#drive\",\n  \"rows\": 5,\n  \"fields\": [\n    {\n      \"column\": \"Fecha\",\n      \"properties\": {\n        \"dtype\": \"object\",\n        \"num_unique_values\": 5,\n        \"samples\": [\n          \"01/10/2021\",\n          \"02/08/2021\",\n          \"09/05/2021\"\n        ],\n        \"semantic_type\": \"\",\n        \"description\": \"\"\n      }\n    },\n    {\n      \"column\": \"Vendedor\",\n      \"properties\": {\n        \"dtype\": \"string\",\n        \"num_unique_values\": 3,\n        \"samples\": [\n          \"Vendedor 10\",\n          \"Vendedor 4\",\n          \"Vendedor 3\"\n        ],\n        \"semantic_type\": \"\",\n        \"description\": \"\"\n      }\n    },\n    {\n      \"column\": \"Sede Entrega\",\n      \"properties\": {\n        \"dtype\": \"string\",\n        \"num_unique_values\": 3,\n        \"samples\": [\n          \"Sede D\",\n          \"Sede A\",\n          \"Sede C\"\n        ],\n        \"semantic_type\": \"\",\n        \"description\": \"\"\n      }\n    },\n    {\n      \"column\": \"Producto\",\n      \"properties\": {\n        \"dtype\": \"string\",\n        \"num_unique_values\": 4,\n        \"samples\": [\n          \"Producto Y\",\n          \"Producto U\",\n          \"Producto Z\"\n        ],\n        \"semantic_type\": \"\",\n        \"description\": \"\"\n      }\n    },\n    {\n      \"column\": \"Importe\",\n      \"properties\": {\n        \"dtype\": \"string\",\n        \"num_unique_values\": 4,\n        \"samples\": [\n          \"$279412.05\",\n          \"$205706.84\",\n          \"$75880.72\"\n        ],\n        \"semantic_type\": \"\",\n        \"description\": \"\"\n      }\n    }\n  ]\n}"
            }
          },
          "metadata": {},
          "execution_count": 10
        }
      ]
    },
    {
      "cell_type": "code",
      "source": [
        "# Acceso a archivo de Gsheets\n",
        "df_gs = pd.read_csv(\"/content/drive/MyDrive/2025_Data Analytics with Python/Datasets/03.-ventas_GD.gsheet\")\n",
        "df_gs.head()"
      ],
      "metadata": {
        "id": "EyF5suuoo2R3",
        "outputId": "a68625f5-fd89-464a-dbf8-885f3cc088c9",
        "colab": {
          "base_uri": "https://localhost:8080/",
          "height": 356
        }
      },
      "execution_count": 9,
      "outputs": [
        {
          "output_type": "error",
          "ename": "OSError",
          "evalue": "[Errno 95] Operation not supported: '/content/drive/MyDrive/2025_Data Analytics with Python/Datasets/03.-ventas_GD.gsheet'",
          "traceback": [
            "\u001b[0;31m---------------------------------------------------------------------------\u001b[0m",
            "\u001b[0;31mOSError\u001b[0m                                   Traceback (most recent call last)",
            "\u001b[0;32m/tmp/ipython-input-1689962721.py\u001b[0m in \u001b[0;36m<cell line: 0>\u001b[0;34m()\u001b[0m\n\u001b[1;32m      1\u001b[0m \u001b[0;31m# Acceso a archivo de Gsheets\u001b[0m\u001b[0;34m\u001b[0m\u001b[0;34m\u001b[0m\u001b[0m\n\u001b[0;32m----> 2\u001b[0;31m \u001b[0mdf_gs\u001b[0m \u001b[0;34m=\u001b[0m \u001b[0mpd\u001b[0m\u001b[0;34m.\u001b[0m\u001b[0mread_csv\u001b[0m\u001b[0;34m(\u001b[0m\u001b[0;34m\"/content/drive/MyDrive/2025_Data Analytics with Python/Datasets/03.-ventas_GD.gsheet\"\u001b[0m\u001b[0;34m)\u001b[0m\u001b[0;34m\u001b[0m\u001b[0;34m\u001b[0m\u001b[0m\n\u001b[0m\u001b[1;32m      3\u001b[0m \u001b[0mdf_gs\u001b[0m\u001b[0;34m.\u001b[0m\u001b[0mhead\u001b[0m\u001b[0;34m(\u001b[0m\u001b[0;34m)\u001b[0m\u001b[0;34m\u001b[0m\u001b[0;34m\u001b[0m\u001b[0m\n",
            "\u001b[0;32m/usr/local/lib/python3.12/dist-packages/pandas/io/parsers/readers.py\u001b[0m in \u001b[0;36mread_csv\u001b[0;34m(filepath_or_buffer, sep, delimiter, header, names, index_col, usecols, dtype, engine, converters, true_values, false_values, skipinitialspace, skiprows, skipfooter, nrows, na_values, keep_default_na, na_filter, verbose, skip_blank_lines, parse_dates, infer_datetime_format, keep_date_col, date_parser, date_format, dayfirst, cache_dates, iterator, chunksize, compression, thousands, decimal, lineterminator, quotechar, quoting, doublequote, escapechar, comment, encoding, encoding_errors, dialect, on_bad_lines, delim_whitespace, low_memory, memory_map, float_precision, storage_options, dtype_backend)\u001b[0m\n\u001b[1;32m   1024\u001b[0m     \u001b[0mkwds\u001b[0m\u001b[0;34m.\u001b[0m\u001b[0mupdate\u001b[0m\u001b[0;34m(\u001b[0m\u001b[0mkwds_defaults\u001b[0m\u001b[0;34m)\u001b[0m\u001b[0;34m\u001b[0m\u001b[0;34m\u001b[0m\u001b[0m\n\u001b[1;32m   1025\u001b[0m \u001b[0;34m\u001b[0m\u001b[0m\n\u001b[0;32m-> 1026\u001b[0;31m     \u001b[0;32mreturn\u001b[0m \u001b[0m_read\u001b[0m\u001b[0;34m(\u001b[0m\u001b[0mfilepath_or_buffer\u001b[0m\u001b[0;34m,\u001b[0m \u001b[0mkwds\u001b[0m\u001b[0;34m)\u001b[0m\u001b[0;34m\u001b[0m\u001b[0;34m\u001b[0m\u001b[0m\n\u001b[0m\u001b[1;32m   1027\u001b[0m \u001b[0;34m\u001b[0m\u001b[0m\n\u001b[1;32m   1028\u001b[0m \u001b[0;34m\u001b[0m\u001b[0m\n",
            "\u001b[0;32m/usr/local/lib/python3.12/dist-packages/pandas/io/parsers/readers.py\u001b[0m in \u001b[0;36m_read\u001b[0;34m(filepath_or_buffer, kwds)\u001b[0m\n\u001b[1;32m    618\u001b[0m \u001b[0;34m\u001b[0m\u001b[0m\n\u001b[1;32m    619\u001b[0m     \u001b[0;31m# Create the parser.\u001b[0m\u001b[0;34m\u001b[0m\u001b[0;34m\u001b[0m\u001b[0m\n\u001b[0;32m--> 620\u001b[0;31m     \u001b[0mparser\u001b[0m \u001b[0;34m=\u001b[0m \u001b[0mTextFileReader\u001b[0m\u001b[0;34m(\u001b[0m\u001b[0mfilepath_or_buffer\u001b[0m\u001b[0;34m,\u001b[0m \u001b[0;34m**\u001b[0m\u001b[0mkwds\u001b[0m\u001b[0;34m)\u001b[0m\u001b[0;34m\u001b[0m\u001b[0;34m\u001b[0m\u001b[0m\n\u001b[0m\u001b[1;32m    621\u001b[0m \u001b[0;34m\u001b[0m\u001b[0m\n\u001b[1;32m    622\u001b[0m     \u001b[0;32mif\u001b[0m \u001b[0mchunksize\u001b[0m \u001b[0;32mor\u001b[0m \u001b[0miterator\u001b[0m\u001b[0;34m:\u001b[0m\u001b[0;34m\u001b[0m\u001b[0;34m\u001b[0m\u001b[0m\n",
            "\u001b[0;32m/usr/local/lib/python3.12/dist-packages/pandas/io/parsers/readers.py\u001b[0m in \u001b[0;36m__init__\u001b[0;34m(self, f, engine, **kwds)\u001b[0m\n\u001b[1;32m   1618\u001b[0m \u001b[0;34m\u001b[0m\u001b[0m\n\u001b[1;32m   1619\u001b[0m         \u001b[0mself\u001b[0m\u001b[0;34m.\u001b[0m\u001b[0mhandles\u001b[0m\u001b[0;34m:\u001b[0m \u001b[0mIOHandles\u001b[0m \u001b[0;34m|\u001b[0m \u001b[0;32mNone\u001b[0m \u001b[0;34m=\u001b[0m \u001b[0;32mNone\u001b[0m\u001b[0;34m\u001b[0m\u001b[0;34m\u001b[0m\u001b[0m\n\u001b[0;32m-> 1620\u001b[0;31m         \u001b[0mself\u001b[0m\u001b[0;34m.\u001b[0m\u001b[0m_engine\u001b[0m \u001b[0;34m=\u001b[0m \u001b[0mself\u001b[0m\u001b[0;34m.\u001b[0m\u001b[0m_make_engine\u001b[0m\u001b[0;34m(\u001b[0m\u001b[0mf\u001b[0m\u001b[0;34m,\u001b[0m \u001b[0mself\u001b[0m\u001b[0;34m.\u001b[0m\u001b[0mengine\u001b[0m\u001b[0;34m)\u001b[0m\u001b[0;34m\u001b[0m\u001b[0;34m\u001b[0m\u001b[0m\n\u001b[0m\u001b[1;32m   1621\u001b[0m \u001b[0;34m\u001b[0m\u001b[0m\n\u001b[1;32m   1622\u001b[0m     \u001b[0;32mdef\u001b[0m \u001b[0mclose\u001b[0m\u001b[0;34m(\u001b[0m\u001b[0mself\u001b[0m\u001b[0;34m)\u001b[0m \u001b[0;34m->\u001b[0m \u001b[0;32mNone\u001b[0m\u001b[0;34m:\u001b[0m\u001b[0;34m\u001b[0m\u001b[0;34m\u001b[0m\u001b[0m\n",
            "\u001b[0;32m/usr/local/lib/python3.12/dist-packages/pandas/io/parsers/readers.py\u001b[0m in \u001b[0;36m_make_engine\u001b[0;34m(self, f, engine)\u001b[0m\n\u001b[1;32m   1878\u001b[0m                 \u001b[0;32mif\u001b[0m \u001b[0;34m\"b\"\u001b[0m \u001b[0;32mnot\u001b[0m \u001b[0;32min\u001b[0m \u001b[0mmode\u001b[0m\u001b[0;34m:\u001b[0m\u001b[0;34m\u001b[0m\u001b[0;34m\u001b[0m\u001b[0m\n\u001b[1;32m   1879\u001b[0m                     \u001b[0mmode\u001b[0m \u001b[0;34m+=\u001b[0m \u001b[0;34m\"b\"\u001b[0m\u001b[0;34m\u001b[0m\u001b[0;34m\u001b[0m\u001b[0m\n\u001b[0;32m-> 1880\u001b[0;31m             self.handles = get_handle(\n\u001b[0m\u001b[1;32m   1881\u001b[0m                 \u001b[0mf\u001b[0m\u001b[0;34m,\u001b[0m\u001b[0;34m\u001b[0m\u001b[0;34m\u001b[0m\u001b[0m\n\u001b[1;32m   1882\u001b[0m                 \u001b[0mmode\u001b[0m\u001b[0;34m,\u001b[0m\u001b[0;34m\u001b[0m\u001b[0;34m\u001b[0m\u001b[0m\n",
            "\u001b[0;32m/usr/local/lib/python3.12/dist-packages/pandas/io/common.py\u001b[0m in \u001b[0;36mget_handle\u001b[0;34m(path_or_buf, mode, encoding, compression, memory_map, is_text, errors, storage_options)\u001b[0m\n\u001b[1;32m    871\u001b[0m         \u001b[0;32mif\u001b[0m \u001b[0mioargs\u001b[0m\u001b[0;34m.\u001b[0m\u001b[0mencoding\u001b[0m \u001b[0;32mand\u001b[0m \u001b[0;34m\"b\"\u001b[0m \u001b[0;32mnot\u001b[0m \u001b[0;32min\u001b[0m \u001b[0mioargs\u001b[0m\u001b[0;34m.\u001b[0m\u001b[0mmode\u001b[0m\u001b[0;34m:\u001b[0m\u001b[0;34m\u001b[0m\u001b[0;34m\u001b[0m\u001b[0m\n\u001b[1;32m    872\u001b[0m             \u001b[0;31m# Encoding\u001b[0m\u001b[0;34m\u001b[0m\u001b[0;34m\u001b[0m\u001b[0m\n\u001b[0;32m--> 873\u001b[0;31m             handle = open(\n\u001b[0m\u001b[1;32m    874\u001b[0m                 \u001b[0mhandle\u001b[0m\u001b[0;34m,\u001b[0m\u001b[0;34m\u001b[0m\u001b[0;34m\u001b[0m\u001b[0m\n\u001b[1;32m    875\u001b[0m                 \u001b[0mioargs\u001b[0m\u001b[0;34m.\u001b[0m\u001b[0mmode\u001b[0m\u001b[0;34m,\u001b[0m\u001b[0;34m\u001b[0m\u001b[0;34m\u001b[0m\u001b[0m\n",
            "\u001b[0;31mOSError\u001b[0m: [Errno 95] Operation not supported: '/content/drive/MyDrive/2025_Data Analytics with Python/Datasets/03.-ventas_GD.gsheet'"
          ]
        }
      ]
    },
    {
      "cell_type": "markdown",
      "source": [
        "#**CLASE 3**"
      ],
      "metadata": {
        "id": "CN_I99VSSsgW"
      }
    },
    {
      "cell_type": "markdown",
      "source": [
        "**Actividad 1: Tipo de Parámetros**\n",
        "\n",
        "**Objetivos:**\n",
        "\n",
        "Aprender a crear funciones con diferentes tipos de parámetros en Python.\n",
        "Practicar la implementación de funciones para resolver problemas comunes de datos.\n",
        "Contexto:\n",
        "\n",
        "El mentor a cargo de esta actividad es Matías, Data Analyst en SynthData. Su enfoque estará en ayudarte a comprender cómo funcionan los parámetros en la programación, ya"
      ],
      "metadata": {
        "id": "fwP89YJPS9ad"
      }
    }
  ]
}