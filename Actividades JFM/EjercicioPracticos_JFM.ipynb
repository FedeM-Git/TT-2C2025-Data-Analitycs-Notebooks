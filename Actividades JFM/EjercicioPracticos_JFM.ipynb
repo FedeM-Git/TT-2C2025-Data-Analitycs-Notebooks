{
  "nbformat": 4,
  "nbformat_minor": 0,
  "metadata": {
    "colab": {
      "provenance": [],
      "toc_visible": true,
      "include_colab_link": true
    },
    "kernelspec": {
      "name": "python3",
      "display_name": "Python 3"
    },
    "language_info": {
      "name": "python"
    }
  },
  "cells": [
    {
      "cell_type": "markdown",
      "metadata": {
        "id": "view-in-github",
        "colab_type": "text"
      },
      "source": [
        "<a href=\"https://colab.research.google.com/github/FedeM-Git/TT-2C2025-Data-Analitycs-Notebooks/blob/main/Actividades%20JFM/EjercicioPracticos_JFM.ipynb\" target=\"_parent\"><img src=\"https://colab.research.google.com/assets/colab-badge.svg\" alt=\"Open In Colab\"/></a>"
      ]
    },
    {
      "cell_type": "markdown",
      "source": [
        "#**CLASE 1**"
      ],
      "metadata": {
        "id": "USgzPOmeRYc0"
      }
    },
    {
      "cell_type": "markdown",
      "source": [
        "# Actividades"
      ],
      "metadata": {
        "id": "gCJoH7KuEUga"
      }
    },
    {
      "cell_type": "markdown",
      "source": [
        "## Actividad 1"
      ],
      "metadata": {
        "id": "NHa-sP3zJ8Db"
      }
    },
    {
      "cell_type": "markdown",
      "source": [
        "  Creá tu propio bloque de texto. Utiliza:\n",
        "  - formatos de texto\n",
        "  - links\n",
        "  - al menos una imagen de tu carpeta Drive"
      ],
      "metadata": {
        "id": "ZlSXlWj4KAZZ"
      }
    },
    {
      "cell_type": "markdown",
      "source": [
        "## Actividad 2"
      ],
      "metadata": {
        "id": "LTFeKV5uKDPK"
      }
    },
    {
      "cell_type": "markdown",
      "source": [
        "Creá un bloque de código con un programa que pida un número por teclado, y responda si es par o impar. Ejecutalo."
      ],
      "metadata": {
        "id": "NfVvRVxMKUu8"
      }
    },
    {
      "cell_type": "markdown",
      "source": [
        "#**Iniciando Data Analytics with Python**\n",
        "\n",
        "\n",
        "\n"
      ],
      "metadata": {
        "id": "yS6iVVlDL3WO"
      }
    },
    {
      "cell_type": "markdown",
      "source": [
        "Como primer tarea se nos pidio armar un bloque con diferentes formatos de texto, links y una imagen. Para que me quede una muestra de cada uno, armé la siguiente lista:\n",
        "\n",
        "1. Esta lista de formatos:\n",
        "    - > Cita\n",
        "\n",
        "    - **negrita**\n",
        "\n",
        "    - ***negrita y cursiva***\n",
        "\n",
        "    - *cursiva*\n",
        "\n",
        "2. Estos Elementos:\n",
        "    - [Enlace a Imagen](https://drive.google.com/file/d/1BcoOSDWlLsbF-9obYlW_EgQ6v0FEVs5F/view?usp=drive_link)\n",
        "\n",
        "    - Esta Imagen:\n",
        "<img src=\"https://drive.google.com/uc?id=1BcoOSDWlLsbF-9obYlW_EgQ6v0FEVs5F\">\n",
        "\n",
        "    Esto es una Doble Tabulación\n",
        "    Sigue la doble Tabulacion\n",
        "No hay Tabulación\n",
        "\n",
        "  Tabulación Simple\n"
      ],
      "metadata": {
        "id": "PM3QE1SR0N9j"
      }
    },
    {
      "cell_type": "markdown",
      "source": [
        "Como Actividad 2 debemos elabror un bloque de código que nos pida un número e indique si es par o impar"
      ],
      "metadata": {
        "id": "_RoD5J5FqqwB"
      }
    },
    {
      "cell_type": "code",
      "source": [
        "print(\"¿Con quén estoy hablando?\")\n",
        "nombre=input()\n",
        "print(\"Hola \", nombre, \", por favor ingresá un número:\")\n",
        "numero=int(input())\n",
        "if numero%2==0:\n",
        "  print(numero, \" es un número PAR\")\n",
        "else:\n",
        "  print(nombre, \", \",numero, \"es un número IMPAR\")\n",
        "\n"
      ],
      "metadata": {
        "id": "3BCouk_k4MyV"
      },
      "execution_count": null,
      "outputs": []
    },
    {
      "cell_type": "markdown",
      "source": [
        "#**CLASE 2**"
      ],
      "metadata": {
        "id": "GgaAd1FEUx6v"
      }
    },
    {
      "cell_type": "markdown",
      "source": [
        "#Actividad: Manipulación de Estructuras de Datos en Python\n",
        "Contexto:\n",
        "\n",
        "¡Bienvenido a esta emocionante actividad en tu proceso de selección en SynthData! Esta vez, trabajarás en la manipulación de diferentes estructuras de datos en Python, contando con la guía de Sabrina, nuestra Data Engineer. Este ejercicio es ideal para fortalecer tus habilidades en el manejo y transformación de datos con Python, lo cual es esencial para tus futuras tareas en el análisis de datos.\n",
        "\n",
        "En esta actividad, te centrarás en crear y manipular diferentes estructuras de datos en Python. Desde listas y diccionarios, hasta el uso de funciones y comprehensions, tendrás la oportunidad de experimentar de manera práctica con estas herramientas. Al finalizar, estarás más preparado para aplicar estas técnicas en proyectos del mundo real.\n",
        "\n",
        "Objetivos:\n",
        "  * Crear y manipular diversas estructuras de datos, aplicando tanto funciones normales como funciones lambda.\n",
        "  * Utilizar comprehensions para crear listas\n",
        "\n"
      ],
      "metadata": {
        "id": "lzmAC5ibU56O"
      }
    },
    {
      "cell_type": "markdown",
      "source": [
        "#Ejercicio Práctico\n",
        "1. Estructuras de Datos\n",
        "\n",
        "    **a.** Crear una lista llamada *numeros* que contenga los números del 1 al 10.\n",
        "\n",
        "    **b.** Crear una tupla llamada *meses* que contenga los nombres de los 12 meses del año.\n",
        "\n",
        "    **c.** Crear un diccionario llamado *notas* con el nombre de tres estudiantes como claves y sus respectivas notas como valores.\n",
        "\n",
        "    **d.** Crear un conjunto llamado *numeros_unicos* con algunos números, asegurándote de que no haya duplicados."
      ],
      "metadata": {
        "id": "TWBZAcooWFbG"
      }
    },
    {
      "cell_type": "code",
      "source": [
        "# 1a\n",
        "numeros=[1,2,3,4,5,6,7,8,9,10]\n",
        "# 1b\n",
        "meses = (\"enero\",\"febrero\",\"marzo\",\"abril\",\"mayo\",\"junio\",\"julio\",\"agosto\",\"septiembre\",\"octubre\",\"noviembre\",\"diciembre\")\n",
        "# 1c\n",
        "notas_list = ({\"nombre\":\"Germán\", \"nota\":8}, {\"nombre\":\"Matías\", \"nota\":4},{\"nombre\":\"Analía\", \"nota\":6})\n",
        "notas_dic = {\"Germán\":8, \"Matías\":4,\"Analía\":6}\n",
        "# 1d\n",
        "numeros_unicos = {0,2,4,6,8,10,12,14,16,18,20}\n",
        "\n",
        "print(type(numeros))\n",
        "print(numeros)\n",
        "print()\n",
        "print(type(meses))\n",
        "print(meses)\n",
        "print()\n",
        "print(type(notas_list))\n",
        "print(notas_list)\n",
        "print()\n",
        "print(type(notas_dic))\n",
        "print(notas_dic)\n",
        "print()\n",
        "print(type(numeros_unicos))\n",
        "print(numeros_unicos)"
      ],
      "metadata": {
        "colab": {
          "base_uri": "https://localhost:8080/"
        },
        "id": "XvctfiJnWg1b",
        "outputId": "8954e3ba-e933-4b9c-d139-6f8157ec0a30"
      },
      "execution_count": null,
      "outputs": [
        {
          "output_type": "stream",
          "name": "stdout",
          "text": [
            "<class 'list'>\n",
            "[1, 2, 3, 4, 5, 6, 7, 8, 9, 10]\n",
            "\n",
            "<class 'tuple'>\n",
            "('enero', 'febrero', 'marzo', 'abril', 'mayo', 'junio', 'julio', 'agosto', 'septiembre', 'octubre', 'noviembre', 'diciembre')\n",
            "\n",
            "<class 'tuple'>\n",
            "({'nombre': 'Germán', 'nota': 8}, {'nombre': 'Matías', 'nota': 4}, {'nombre': 'Analía', 'nota': 6})\n",
            "\n",
            "<class 'dict'>\n",
            "{'Germán': 8, 'Matías': 4, 'Analía': 6}\n",
            "\n",
            "<class 'set'>\n",
            "{0, 2, 4, 6, 8, 10, 12, 14, 16, 18, 20}\n"
          ]
        }
      ]
    },
    {
      "cell_type": "markdown",
      "source": [
        "2. Modificación y Acceso\n",
        "\n",
        "    **a.** Modificar uno de los valores del diccionario notas (cambiar la nota de uno de los estudiantes).\n",
        "\n",
        "    **b.** Acceder a los elementos de la lista numeros y mostrar todos los números pares utilizando un bucle.\n",
        "\n",
        "    **c.** Acceder al primer mes de la tupla meses y al último mes. Mostrar ambos."
      ],
      "metadata": {
        "id": "-MRz5u-LXnGz"
      }
    },
    {
      "cell_type": "code",
      "source": [
        "# 2a\n",
        "print(f'la nota de Analía es {notas_dic['Analía']}')\n",
        "notas_dic['Analía'] = 10\n",
        "print(f'ahora la nota de Analía es {notas_dic['Analía']}')\n",
        "\n",
        "print()\n",
        "\n",
        "# 2b\n",
        "print(numeros)\n",
        "def act2_paresEnLista(lista):\n",
        "  paresEnLista=[]\n",
        "  for number in lista:\n",
        "    if number%2==0:\n",
        "      paresEnLista.append(number)\n",
        "  return paresEnLista\n",
        "print(act2_paresEnLista(numeros))\n",
        "\n",
        "print()\n",
        "\n",
        "# 2c\n",
        "print(f'El primer mes del año es {meses[0]}')\n",
        "print(f'El último mes del año es {meses[-1]}')"
      ],
      "metadata": {
        "colab": {
          "base_uri": "https://localhost:8080/"
        },
        "id": "L4z59jT5YSjl",
        "outputId": "ab995330-6458-47e5-853a-5c3b366e69b8"
      },
      "execution_count": null,
      "outputs": [
        {
          "output_type": "stream",
          "name": "stdout",
          "text": [
            "la nota de Analía es 10\n",
            "ahora la nota de Analía es 10\n",
            "\n",
            "[1, 2, 3, 4, 5, 6, 7, 8, 9, 10]\n",
            "[2, 4, 6, 8, 10]\n",
            "\n",
            "El primer mes del año es enero\n",
            "El ultimo mes del año es diciembre\n"
          ]
        }
      ]
    },
    {
      "cell_type": "markdown",
      "source": [
        "3. Funciones Normales y Funciones Lambda\n",
        "\n",
        "    **a.** Definir una función normal llamada *multiplicar_por_dos* que tome un número y lo multiplique por 2. Utilizar esta función para crear una nueva lista llamada *dobles*, que contenga los dobles de los números en la lista numeros.\n",
        "\n",
        "    **b.** Definir una función lambda que haga lo mismo y utilizarla para crear una nueva lista llamada *dobles_lambda*, que contenga los dobles de los números en la lista numeros."
      ],
      "metadata": {
        "id": "s-ak342JpGnb"
      }
    },
    {
      "cell_type": "code",
      "source": [
        "# 3a\n",
        "def multiplicar_por_dos(lista):\n",
        "  dobles_fx=[]\n",
        "  for number in lista:\n",
        "    dobles_fx.append(number*2)\n",
        "  return dobles_fx\n",
        "dobles=multiplicar_por_dos(numeros)\n",
        "print(numeros)\n",
        "print(dobles)\n",
        "\n",
        "# 3b\n",
        "\n",
        "dobles_lambda = list(map(lambda x: x*2, numeros))\n",
        "print(dobles_lambda)"
      ],
      "metadata": {
        "id": "DjRVJ5h1pVmq",
        "outputId": "51d24844-effb-4a79-fb4d-c563c933304b",
        "colab": {
          "base_uri": "https://localhost:8080/"
        }
      },
      "execution_count": null,
      "outputs": [
        {
          "output_type": "stream",
          "name": "stdout",
          "text": [
            "[1, 2, 3, 4, 5, 6, 7, 8, 9, 10]\n",
            "[2, 4, 6, 8, 10, 12, 14, 16, 18, 20]\n",
            "[2, 4, 6, 8, 10, 12, 14, 16, 18, 20]\n"
          ]
        }
      ]
    },
    {
      "cell_type": "markdown",
      "source": [
        "4. Comprehensions\n",
        "\n",
        "    **a.** Utilizar list comprehensions para crear una lista llamada *cuadrados* que contenga los cuadrados de los números en la lista *numeros*.\n",
        "\n",
        "    **b.** Utilizar dict comprehensions para crear un diccionario llamado *cubos* que contenga los números de la lista *numeros* como claves y sus cubos como valores.\n"
      ],
      "metadata": {
        "id": "VQbbBpQGXdU6"
      }
    },
    {
      "cell_type": "code",
      "source": [
        "#4a\n",
        "import math\n",
        "print(\"Esta es la lista Numeros:\")\n",
        "print(numeros)\n",
        "cuadrados = [pow(numero,2) for numero in numeros]\n",
        "print(\"Esta es una lista con los cuadrados\")\n",
        "print(cuadrados)\n",
        "#4b\n",
        "print()\n",
        "cubos = {numero:pow(numero,3) for numero in numeros}\n",
        "print(\"Este es un diccionario con los cubos:\")\n",
        "print(cubos)"
      ],
      "metadata": {
        "id": "2P1aOiU4X-AJ",
        "outputId": "e5f5079d-6ae0-4008-ad59-4de47a4c1b24",
        "colab": {
          "base_uri": "https://localhost:8080/"
        }
      },
      "execution_count": null,
      "outputs": [
        {
          "output_type": "stream",
          "name": "stdout",
          "text": [
            "Esta es la lista Numeros:\n",
            "[1, 2, 3, 4, 5, 6, 7, 8, 9, 10]\n",
            "Esta es una lista con los cuadrados\n",
            "[1, 4, 9, 16, 25, 36, 49, 64, 81, 100]\n",
            "\n",
            "Este es un diccionario con los cubos:\n",
            "{1: 1, 2: 8, 3: 27, 4: 64, 5: 125, 6: 216, 7: 343, 8: 512, 9: 729, 10: 1000}\n"
          ]
        }
      ]
    },
    {
      "cell_type": "markdown",
      "source": [
        "5. Comparación de resultados\n",
        "\n",
        "    **a.** Mostrar las listas dobles, dobles_lambda y cuadrados. Comparar sus resultados y argumentar cuál es el mejor método.\n",
        "\n",
        "    **b.** Imprimir el diccionario cubos y comparar con la creación de un diccionario usando un método convencional."
      ],
      "metadata": {
        "id": "rFzrdhozX1u3"
      }
    },
    {
      "cell_type": "code",
      "source": [
        "#5a\n",
        "print('Lista \"dobles\":')\n",
        "print(dobles)\n",
        "\n",
        "print('\\nLista \"dobles_Lambda\":')\n",
        "print(dobles_lambda)\n",
        "\n",
        "print('\\nLista \"cuadrados\":')\n",
        "print(cuadrados)\n",
        "\n",
        "#5b\n",
        "print('\\nDiccionario \"cubos\":')\n",
        "print(cubos)\n",
        "\n"
      ],
      "metadata": {
        "id": "ExATO7TrYIRQ",
        "outputId": "d2905b64-eb6b-42ff-8fac-1259567cd23a",
        "colab": {
          "base_uri": "https://localhost:8080/"
        }
      },
      "execution_count": null,
      "outputs": [
        {
          "output_type": "stream",
          "name": "stdout",
          "text": [
            "Lista \"dobles\":\n",
            "[2, 4, 6, 8, 10, 12, 14, 16, 18, 20]\n",
            "\n",
            "Lista \"dobles_Lambda\":\n",
            "[2, 4, 6, 8, 10, 12, 14, 16, 18, 20]\n",
            "\n",
            "Lista \"cuadrados\":\n",
            "[1, 4, 9, 16, 25, 36, 49, 64, 81, 100]\n",
            "\n",
            "Diccionario \"cubos\":\n",
            "{1: 1, 2: 8, 3: 27, 4: 64, 5: 125, 6: 216, 7: 343, 8: 512, 9: 729, 10: 1000}\n"
          ]
        }
      ]
    },
    {
      "cell_type": "markdown",
      "source": [
        ">Tanto en la creación nuevas listas o diccionarios a partir de daton anteriores me resultó más practico los métodos de *comprehension*"
      ],
      "metadata": {
        "id": "WFUVPWbWvNCt"
      }
    },
    {
      "cell_type": "markdown",
      "source": [
        "#**CLASE 3**"
      ],
      "metadata": {
        "id": "Xhj_1Az4R5CB"
      }
    },
    {
      "cell_type": "markdown",
      "source": [
        "#Actividad 1: Tipo de Parámetros\n",
        "\n",
        "**Objetivos:**\n",
        "\n",
        "  * Aprender a crear funciones con diferentes tipos de parámetros en Python.\n",
        "  * Practicar la implementación de funciones para resolver problemas comunes de datos.\n",
        "\n",
        "**Contexto:**\n",
        "\n",
        "   El mentor a cargo de esta actividad es Matías, Data Analyst en SynthData. Su enfoque estará en ayudarte a comprender cómo funcionan los parámetros en la programación, ya que son esenciales para manipular datos de manera efectiva.\n",
        "\n",
        "**Consigna:**"
      ],
      "metadata": {
        "id": "GDi5R-5pSWDo"
      }
    },
    {
      "cell_type": "markdown",
      "source": [
        "1. Parámetros Posicionales: Crear una función llamada multiplicar que reciba dos números y devuelva su producto. Probar la función con diferentes pares de números."
      ],
      "metadata": {
        "id": "RXG_J3sxTkDw"
      }
    },
    {
      "cell_type": "code",
      "source": [
        "def multiplicar (num1, num2):\n",
        "  return num1*num2\n",
        "\n",
        "print(multiplicar(5,10))\n",
        "print(multiplicar(2,3))\n",
        "print(multiplicar(5,5))\n",
        "print(multiplicar(12,10))"
      ],
      "metadata": {
        "id": "p0aDBMzrT1Lb",
        "outputId": "7d2043cd-4d7e-47a8-90a0-2c9dd3632b6f",
        "colab": {
          "base_uri": "https://localhost:8080/"
        }
      },
      "execution_count": 3,
      "outputs": [
        {
          "output_type": "stream",
          "name": "stdout",
          "text": [
            "50\n",
            "6\n",
            "25\n",
            "120\n"
          ]
        }
      ]
    },
    {
      "cell_type": "markdown",
      "source": [
        "2. Parámetros por Defecto: Crear una función llamada bienvenida que reciba un nombre y un mensaje de bienvenida. El mensaje debe tener un valor por defecto de \"¡Bienvenido!\". Si no se proporciona un mensaje, la función debe usar el valor por defecto. Probar la función proporcionando solo el nombre y con el mensaje.\n"
      ],
      "metadata": {
        "id": "aRMx1cX8T1oU"
      }
    },
    {
      "cell_type": "code",
      "source": [
        "def bienvenida(usuario=\"Usuario\", mensaje=\"¡Bienvenido!\"):\n",
        "  return(f'{usuario} dice: {mensaje}')\n",
        "print(bienvenida(\"Esteban\", \"Hola, les deseo buen inicio de curso.\"))\n",
        "print(bienvenida())\n"
      ],
      "metadata": {
        "id": "9fg-lNE9T5JN",
        "outputId": "b7a0f654-dd80-44f8-8000-ab4c94573435",
        "colab": {
          "base_uri": "https://localhost:8080/"
        }
      },
      "execution_count": 9,
      "outputs": [
        {
          "output_type": "stream",
          "name": "stdout",
          "text": [
            "Esteban dice: Hola, les deseo buen inicio de curso.\n",
            "Usuario dice: ¡Bienvenido!\n"
          ]
        }
      ]
    },
    {
      "cell_type": "markdown",
      "source": [
        "3. Parámetros Indefinidos (*args): Crear una función llamada calcular_promedio que acepte un número variable de notas (posicionales) y devuelva el promedio de esas notas. Probar la función con diferentes cantidades de notas."
      ],
      "metadata": {
        "id": "WtTyFdZlT5u7"
      }
    },
    {
      "cell_type": "code",
      "source": [
        "def promedio (*args):\n",
        "  suma=0\n",
        "  elementos=0\n",
        "  for numero in args:\n",
        "    suma +=numero\n",
        "    elementos +=1\n",
        "  return suma/elementos\n",
        "\n",
        "print(promedio(5,6,7,8,9))"
      ],
      "metadata": {
        "id": "FPTZnyxMT-Ii",
        "outputId": "950b5d1e-21d6-4c65-c9a1-c7e6df501d69",
        "colab": {
          "base_uri": "https://localhost:8080/"
        }
      },
      "execution_count": 14,
      "outputs": [
        {
          "output_type": "stream",
          "name": "stdout",
          "text": [
            "7.0\n"
          ]
        }
      ]
    },
    {
      "cell_type": "markdown",
      "source": [
        "4. Parámetros de Palabras Clave Indefinidas (**kwargs): Crear una función llamada concatena_info que reciba un nombre y un número indefinido de palabras clave (por ejemplo, edad, ciudad, ocupación) y devuelva un string que combine todos los datos. Probar la función pasando varios pares de clave-valor."
      ],
      "metadata": {
        "id": "Ks1gD-sZT-XS"
      }
    },
    {
      "cell_type": "code",
      "source": [
        "def concatena_info(**kwargs):\n",
        "  info=\"\"\n",
        "  for clave, valor in kwargs.items():\n",
        "    info += f'{clave}: {valor}\\n'\n",
        "  return info\n",
        "dic_datos ={\"nombre\":\"Ricardo\", \"edad\":40, \"ciudad\":\"Tandil\", \"ocupación\":\"comerciante\", \"dni\": \"30.123.456\"}\n",
        "\n",
        "datos_items=dic_datos.items()\n",
        "print(type(datos_items))\n",
        "#print(dic_datos.items())\n",
        "#print(concatena_info(dic_datos))"
      ],
      "metadata": {
        "id": "v6OjpiNCUCPB",
        "outputId": "7bd3908f-1f1e-4b4e-d6b9-a2957f18ee85",
        "colab": {
          "base_uri": "https://localhost:8080/"
        }
      },
      "execution_count": 25,
      "outputs": [
        {
          "output_type": "stream",
          "name": "stdout",
          "text": [
            "<class 'dict_items'>\n"
          ]
        }
      ]
    }
  ]
}