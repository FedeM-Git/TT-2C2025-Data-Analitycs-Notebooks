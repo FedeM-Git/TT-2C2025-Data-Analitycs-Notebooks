{
  "nbformat": 4,
  "nbformat_minor": 0,
  "metadata": {
    "colab": {
      "provenance": [],
      "include_colab_link": true
    },
    "kernelspec": {
      "name": "python3",
      "display_name": "Python 3"
    },
    "language_info": {
      "name": "python"
    }
  },
  "cells": [
    {
      "cell_type": "markdown",
      "metadata": {
        "id": "view-in-github",
        "colab_type": "text"
      },
      "source": [
        "<a href=\"https://colab.research.google.com/github/FedeM-Git/TT-2C2025-Data-Analitycs-Notebooks/blob/main/Actividades%20JFM/Clase1_Actividad_1_Lenguaje_Markup_JFM.ipynb\" target=\"_parent\"><img src=\"https://colab.research.google.com/assets/colab-badge.svg\" alt=\"Open In Colab\"/></a>"
      ]
    },
    {
      "cell_type": "markdown",
      "source": [
        "# Actividades"
      ],
      "metadata": {
        "id": "gCJoH7KuEUga"
      }
    },
    {
      "cell_type": "markdown",
      "source": [
        "## Actividad 1"
      ],
      "metadata": {
        "id": "NHa-sP3zJ8Db"
      }
    },
    {
      "cell_type": "markdown",
      "source": [
        "  Creá tu propio bloque de texto. Utiliza:\n",
        "  - formatos de texto\n",
        "  - links\n",
        "  - al menos una imagen de tu carpeta Drive"
      ],
      "metadata": {
        "id": "ZlSXlWj4KAZZ"
      }
    },
    {
      "cell_type": "markdown",
      "source": [
        "## Actividad 2"
      ],
      "metadata": {
        "id": "LTFeKV5uKDPK"
      }
    },
    {
      "cell_type": "markdown",
      "source": [
        "Creá un bloque de código con un programa que pida un número por teclado, y responda si es par o impar. Ejecutalo."
      ],
      "metadata": {
        "id": "NfVvRVxMKUu8"
      }
    },
    {
      "cell_type": "markdown",
      "source": [
        "#**Este es Mi bloque de Texto**\n"
      ],
      "metadata": {
        "id": "yS6iVVlDL3WO"
      }
    },
    {
      "cell_type": "markdown",
      "source": [
        "esto este texto que pertenece a mi bloque y tiene\n",
        "\n",
        "1. Esta lista de formatos:\n",
        "    - > Cita\n",
        "\n",
        "    - **negrita**\n",
        "\n",
        "    - ***negrita y cursiva***\n",
        "\n",
        "    - *cursiva*\n",
        "\n",
        "2. Estos Elementos:\n",
        "    - [Enlace a Imagen](https://drive.google.com/file/d/1BcoOSDWlLsbF-9obYlW_EgQ6v0FEVs5F/view?usp=drive_link)\n",
        "\n",
        "    - Esta Imagen:\n",
        "<img src=\"https://drive.google.com/uc?id=1BcoOSDWlLsbF-9obYlW_EgQ6v0FEVs5F\">\n",
        "\n",
        "    Esto es una Doble Tabulación\n",
        "    Sigue la doble Tabulacion\n",
        "No hay Tabulación\n",
        "\n",
        "  Tabulación Simple\n"
      ],
      "metadata": {
        "id": "PM3QE1SR0N9j"
      }
    },
    {
      "cell_type": "code",
      "source": [],
      "metadata": {
        "id": "3BCouk_k4MyV"
      },
      "execution_count": null,
      "outputs": []
    }
  ]
}