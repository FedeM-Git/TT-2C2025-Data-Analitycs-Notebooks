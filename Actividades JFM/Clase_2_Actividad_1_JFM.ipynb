{
  "nbformat": 4,
  "nbformat_minor": 0,
  "metadata": {
    "colab": {
      "provenance": [],
      "include_colab_link": true
    },
    "kernelspec": {
      "name": "python3",
      "display_name": "Python 3"
    },
    "language_info": {
      "name": "python"
    }
  },
  "cells": [
    {
      "cell_type": "markdown",
      "metadata": {
        "id": "view-in-github",
        "colab_type": "text"
      },
      "source": [
        "<a href=\"https://colab.research.google.com/github/FedeM-Git/TT-2C2025-Data-Analitycs-Notebooks/blob/main/Actividades%20JFM/Clase_2_Actividad_1_JFM.ipynb\" target=\"_parent\"><img src=\"https://colab.research.google.com/assets/colab-badge.svg\" alt=\"Open In Colab\"/></a>"
      ]
    },
    {
      "cell_type": "markdown",
      "source": [
        "# Ejercicio 1. Lambda"
      ],
      "metadata": {
        "id": "KBEiKOiHFtcy"
      }
    },
    {
      "cell_type": "markdown",
      "source": [
        "Declara una función lambda llamada mayor que reciba dos números y devuelva el mayor de los dos.\n",
        "<BR>\n",
        "Prueba con los pares: (7, 3), (10, 15).\n",
        "<BR>\n",
        "Qué sucede si son iguales (20, 20)?"
      ],
      "metadata": {
        "id": "KkZLAEDmF-dY"
      }
    },
    {
      "cell_type": "code",
      "execution_count": 3,
      "metadata": {
        "id": "gRD0-JE3EXZ4",
        "outputId": "e6809649-c54c-436f-efb2-b367487cc822",
        "colab": {
          "base_uri": "https://localhost:8080/"
        }
      },
      "outputs": [
        {
          "output_type": "stream",
          "name": "stdout",
          "text": [
            "15\n"
          ]
        }
      ],
      "source": [
        "mayor = lambda x,y: \"Iguales\" if x==y else (x if x>y else y)\n",
        "print(f'Entre 7 y 3, el mayor es {mayor(7,3)}')\n",
        "print(mayor(10,15))\n",
        "print(mayor(20,20))"
      ]
    },
    {
      "cell_type": "markdown",
      "source": [
        "# Ejercicio 2. Lambda"
      ],
      "metadata": {
        "id": "jOQzCnNmGD4a"
      }
    },
    {
      "cell_type": "markdown",
      "source": [
        "Declara una función lambda llamada cuadrado que reciba un número y devuelva ese número al cuadrado.\n",
        "Prueba tu función con los valores 2, 5 y 10.\n",
        "<BR>\n",
        "*Hint* usar pow de math"
      ],
      "metadata": {
        "id": "CzdL_z0GHeva"
      }
    },
    {
      "cell_type": "code",
      "source": [
        "# Tu código aquí\n",
        "import math\n",
        "potencia = lambda x: pow(x,2)\n",
        "\n",
        "print(f'El cuadrado de 2 es {potencia(2)}')\n",
        "print(f'El cuadrado de 5 es {potencia(5)}')\n",
        "print(f'El cuadrado de 10 es {potencia(10)}')"
      ],
      "metadata": {
        "id": "kuc5kIGtHt2n",
        "outputId": "6c9c38a0-7277-4ad4-e9f3-cf737e07d9e9",
        "colab": {
          "base_uri": "https://localhost:8080/"
        }
      },
      "execution_count": 4,
      "outputs": [
        {
          "output_type": "stream",
          "name": "stdout",
          "text": [
            "El cuadrado de 2 es 4\n",
            "El cuadrado de 5 es 25\n",
            "El cuadrado de 10 es 100\n"
          ]
        }
      ]
    },
    {
      "cell_type": "markdown",
      "source": [
        "# Ejercicio 3. List Comprehension"
      ],
      "metadata": {
        "id": "Zl6pnzu_JEjd"
      }
    },
    {
      "cell_type": "markdown",
      "source": [
        "Convertir montos y aplicar IVA\n",
        "<BR>\n",
        "Objetivo: pasar montos en USD a ARS"
      ],
      "metadata": {
        "id": "ToPga-kzKQ0E"
      }
    },
    {
      "cell_type": "code",
      "source": [
        "ventas = [\n",
        "    {\"id\": 1, \"monto_usd\": 10.0},\n",
        "    {\"id\": 2, \"monto_usd\": 25.5},\n",
        "    {\"id\": 3, \"monto_usd\": 13.2},\n",
        "]\n",
        "tipo_cambio = 1350\n",
        "iva=0.21\n",
        "\n",
        "# 👉 Generar lista de montos finales en ARS (redondeados a 2 decimales)\n",
        "montos_finales_ars = [round(x[\"monto_usd\"]*tipo_cambio*(1+iva),2) for x in ventas]\n",
        "print(montos_finales_ars)  # Ej: [?, ?, ?]\n"
      ],
      "metadata": {
        "id": "KRigrrXrKXXJ",
        "outputId": "5bf02b39-7d7e-4d65-b8e4-d1a463f4a574",
        "colab": {
          "base_uri": "https://localhost:8080/"
        }
      },
      "execution_count": 8,
      "outputs": [
        {
          "output_type": "stream",
          "name": "stdout",
          "text": [
            "[16335.0, 41654.25, 21562.2]\n",
            "2.53\n"
          ]
        }
      ]
    },
    {
      "cell_type": "markdown",
      "source": [
        "Ejercicio 4. List Comprehension"
      ],
      "metadata": {
        "id": "d6YKawUYJsBU"
      }
    },
    {
      "cell_type": "markdown",
      "source": [
        "Crear una lista con el IMC de cada paciente (redondeado a 1 decimal)."
      ],
      "metadata": {
        "id": "Zk2FAh0gNEbU"
      }
    },
    {
      "cell_type": "code",
      "source": [
        "# Tu código aquí\n",
        "pacientes = [\n",
        "    {\"nombre\": \"Ana\", \"peso_kg\": 62, \"altura_m\": 1.65},\n",
        "    {\"nombre\": \"Luis\", \"peso_kg\": 80, \"altura_m\": 1.78},\n",
        "    {\"nombre\": \"Mia\", \"peso_kg\": 54, \"altura_m\": 1.60},\n",
        "]\n",
        "\n",
        "# IMC = peso_kg / (altura_m ** 2)\n",
        "\n",
        "imc = [round(x[\"peso_kg\"]/x[\"altura_m\"]**2,1) for x in pacientes]\n",
        "imc_dic=[{x[\"nombre\"]:round(x[\"peso_kg\"]/x[\"altura_m\"]**2,1)} for x in pacientes]\n",
        "print(imc)\n",
        "print(imc_dic)\n",
        "\n",
        "\n"
      ],
      "metadata": {
        "id": "cSq_E63kNGwh",
        "colab": {
          "base_uri": "https://localhost:8080/"
        },
        "outputId": "045e7089-74aa-46c3-96f0-bfaff3b900aa"
      },
      "execution_count": 15,
      "outputs": [
        {
          "output_type": "stream",
          "name": "stdout",
          "text": [
            "[22.8, 25.2, 21.1]\n",
            "[{'Ana': 22.8}, {'Luis': 25.2}, {'Mia': 21.1}]\n"
          ]
        }
      ]
    },
    {
      "cell_type": "markdown",
      "source": [
        "Ejercicio 5. List Comprehension"
      ],
      "metadata": {
        "id": "kVXLCrb_NRDv"
      }
    },
    {
      "cell_type": "markdown",
      "source": [
        "Con condicional: filtrar y transformar temperaturas\n",
        "<BR>\n",
        "Objetivo: quedarte solo con temperaturas numéricas > 25°C y convertirlas a °F."
      ],
      "metadata": {
        "id": "ZVU-eXyHNT7v"
      }
    },
    {
      "cell_type": "code",
      "source": [
        "# Tu código aquí\n",
        "temperaturas = [23, 29, None, 31, 18, \"N/A\", 27]\n",
        "\n",
        "#  °F = °C * 9/5 + 32\n",
        "temps_f = [t*9/5+32 for t in temperaturas if not isinstance(t, str) and t!=None and t>25]\n",
        "print(temps_f)  # Ej: [84.2, 87.8, 80.6]\n",
        "\n"
      ],
      "metadata": {
        "id": "15ioRkjENYAJ",
        "outputId": "845d0e79-ca4e-4250-c23c-676383f3e018",
        "colab": {
          "base_uri": "https://localhost:8080/"
        }
      },
      "execution_count": 28,
      "outputs": [
        {
          "output_type": "stream",
          "name": "stdout",
          "text": [
            "[84.2, 87.8, 80.6]\n"
          ]
        }
      ]
    },
    {
      "cell_type": "markdown",
      "source": [
        "# Ejercicio 6\n"
      ],
      "metadata": {
        "id": "RRj0-2IcNdsQ"
      }
    },
    {
      "cell_type": "markdown",
      "source": [
        "Con condicional: limpiar y convertir métricas\n",
        "<BR>\n",
        "Objetivo: de una lista de strings con números y “ruido” (N/A, 0, vacío),\n",
        "obtener solo enteros válidos > 0.\n",
        "<BR>\n",
        "*Hint* round, isinstance, o str.isdigit()"
      ],
      "metadata": {
        "id": "0B3_GK_QNiUZ"
      }
    },
    {
      "cell_type": "code",
      "source": [
        "clicks_str = [\"100\", \"N/A\", \"250\", \"0\", \"\", \"300\", \"—\", \"75\"]\n",
        "\n",
        "clicks_validos = [ ... for s in clicks_str if ... ]\n",
        "print(clicks_validos)  # Ej: [100, 250, 300, 75]"
      ],
      "metadata": {
        "id": "TeAIg3BHNoyl"
      },
      "execution_count": null,
      "outputs": []
    }
  ]
}